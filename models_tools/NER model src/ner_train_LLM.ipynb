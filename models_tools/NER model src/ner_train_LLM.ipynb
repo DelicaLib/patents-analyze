{
 "cells": [
  {
   "cell_type": "code",
   "execution_count": 9,
   "metadata": {
    "colab": {
     "base_uri": "https://localhost:8080/"
    },
    "executionInfo": {
     "elapsed": 127706,
     "status": "ok",
     "timestamp": 1742826296597,
     "user": {
      "displayName": "Данила Никонов",
      "userId": "11702314398238835712"
     },
     "user_tz": -180
    },
    "id": "xeR-odWy8gRQ",
    "outputId": "4b610f32-5601-4734-a2c0-b16987c02d9d"
   },
   "outputs": [
    {
     "name": "stdout",
     "output_type": "stream",
     "text": [
      "Requirement already satisfied: spacy in /opt/conda/lib/python3.11/site-packages (3.8.5)\n",
      "Requirement already satisfied: spacy-transformers in /opt/conda/lib/python3.11/site-packages (1.3.8)\n",
      "Requirement already satisfied: spacy-legacy<3.1.0,>=3.0.11 in /opt/conda/lib/python3.11/site-packages (from spacy) (3.0.12)\n",
      "Requirement already satisfied: spacy-loggers<2.0.0,>=1.0.0 in /opt/conda/lib/python3.11/site-packages (from spacy) (1.0.5)\n",
      "Requirement already satisfied: murmurhash<1.1.0,>=0.28.0 in /opt/conda/lib/python3.11/site-packages (from spacy) (1.0.12)\n",
      "Requirement already satisfied: cymem<2.1.0,>=2.0.2 in /opt/conda/lib/python3.11/site-packages (from spacy) (2.0.11)\n",
      "Requirement already satisfied: preshed<3.1.0,>=3.0.2 in /opt/conda/lib/python3.11/site-packages (from spacy) (3.0.9)\n",
      "Requirement already satisfied: thinc<8.4.0,>=8.3.4 in /opt/conda/lib/python3.11/site-packages (from spacy) (8.3.4)\n",
      "Requirement already satisfied: wasabi<1.2.0,>=0.9.1 in /opt/conda/lib/python3.11/site-packages (from spacy) (1.1.3)\n",
      "Requirement already satisfied: srsly<3.0.0,>=2.4.3 in /opt/conda/lib/python3.11/site-packages (from spacy) (2.5.1)\n",
      "Requirement already satisfied: catalogue<2.1.0,>=2.0.6 in /opt/conda/lib/python3.11/site-packages (from spacy) (2.0.10)\n",
      "Requirement already satisfied: weasel<0.5.0,>=0.1.0 in /opt/conda/lib/python3.11/site-packages (from spacy) (0.4.1)\n",
      "Requirement already satisfied: typer<1.0.0,>=0.3.0 in /opt/conda/lib/python3.11/site-packages (from spacy) (0.15.2)\n",
      "Requirement already satisfied: tqdm<5.0.0,>=4.38.0 in /opt/conda/lib/python3.11/site-packages (from spacy) (4.66.1)\n",
      "Requirement already satisfied: numpy>=1.19.0 in /opt/conda/lib/python3.11/site-packages (from spacy) (1.24.4)\n",
      "Requirement already satisfied: requests<3.0.0,>=2.13.0 in /opt/conda/lib/python3.11/site-packages (from spacy) (2.31.0)\n",
      "Requirement already satisfied: pydantic!=1.8,!=1.8.1,<3.0.0,>=1.7.4 in /opt/conda/lib/python3.11/site-packages (from spacy) (2.11.2)\n",
      "Requirement already satisfied: jinja2 in /opt/conda/lib/python3.11/site-packages (from spacy) (3.1.2)\n",
      "Requirement already satisfied: setuptools in /opt/conda/lib/python3.11/site-packages (from spacy) (68.2.2)\n",
      "Requirement already satisfied: packaging>=20.0 in /opt/conda/lib/python3.11/site-packages (from spacy) (23.2)\n",
      "Requirement already satisfied: langcodes<4.0.0,>=3.2.0 in /opt/conda/lib/python3.11/site-packages (from spacy) (3.5.0)\n",
      "Requirement already satisfied: transformers<4.50.0,>=3.4.0 in /opt/conda/lib/python3.11/site-packages (from spacy-transformers) (4.49.0)\n",
      "Requirement already satisfied: torch>=1.8.0 in /opt/conda/lib/python3.11/site-packages (from spacy-transformers) (2.6.0)\n",
      "Requirement already satisfied: spacy-alignments<1.0.0,>=0.7.2 in /opt/conda/lib/python3.11/site-packages (from spacy-transformers) (0.9.1)\n",
      "Requirement already satisfied: language-data>=1.2 in /opt/conda/lib/python3.11/site-packages (from langcodes<4.0.0,>=3.2.0->spacy) (1.3.0)\n",
      "Requirement already satisfied: annotated-types>=0.6.0 in /opt/conda/lib/python3.11/site-packages (from pydantic!=1.8,!=1.8.1,<3.0.0,>=1.7.4->spacy) (0.7.0)\n",
      "Requirement already satisfied: pydantic-core==2.33.1 in /opt/conda/lib/python3.11/site-packages (from pydantic!=1.8,!=1.8.1,<3.0.0,>=1.7.4->spacy) (2.33.1)\n",
      "Requirement already satisfied: typing-extensions>=4.12.2 in /opt/conda/lib/python3.11/site-packages (from pydantic!=1.8,!=1.8.1,<3.0.0,>=1.7.4->spacy) (4.13.1)\n",
      "Requirement already satisfied: typing-inspection>=0.4.0 in /opt/conda/lib/python3.11/site-packages (from pydantic!=1.8,!=1.8.1,<3.0.0,>=1.7.4->spacy) (0.4.0)\n",
      "Requirement already satisfied: charset-normalizer<4,>=2 in /opt/conda/lib/python3.11/site-packages (from requests<3.0.0,>=2.13.0->spacy) (3.3.0)\n",
      "Requirement already satisfied: idna<4,>=2.5 in /opt/conda/lib/python3.11/site-packages (from requests<3.0.0,>=2.13.0->spacy) (3.4)\n",
      "Requirement already satisfied: urllib3<3,>=1.21.1 in /opt/conda/lib/python3.11/site-packages (from requests<3.0.0,>=2.13.0->spacy) (2.0.7)\n",
      "Requirement already satisfied: certifi>=2017.4.17 in /opt/conda/lib/python3.11/site-packages (from requests<3.0.0,>=2.13.0->spacy) (2023.7.22)\n",
      "Requirement already satisfied: blis<1.3.0,>=1.2.0 in /opt/conda/lib/python3.11/site-packages (from thinc<8.4.0,>=8.3.4->spacy) (1.2.1)\n",
      "Requirement already satisfied: confection<1.0.0,>=0.0.1 in /opt/conda/lib/python3.11/site-packages (from thinc<8.4.0,>=8.3.4->spacy) (0.1.5)\n",
      "Requirement already satisfied: filelock in /opt/conda/lib/python3.11/site-packages (from torch>=1.8.0->spacy-transformers) (3.18.0)\n",
      "Requirement already satisfied: networkx in /opt/conda/lib/python3.11/site-packages (from torch>=1.8.0->spacy-transformers) (3.2)\n",
      "Requirement already satisfied: fsspec in /opt/conda/lib/python3.11/site-packages (from torch>=1.8.0->spacy-transformers) (2023.9.2)\n",
      "Requirement already satisfied: nvidia-cuda-nvrtc-cu12==12.4.127 in /opt/conda/lib/python3.11/site-packages (from torch>=1.8.0->spacy-transformers) (12.4.127)\n",
      "Requirement already satisfied: nvidia-cuda-runtime-cu12==12.4.127 in /opt/conda/lib/python3.11/site-packages (from torch>=1.8.0->spacy-transformers) (12.4.127)\n",
      "Requirement already satisfied: nvidia-cuda-cupti-cu12==12.4.127 in /opt/conda/lib/python3.11/site-packages (from torch>=1.8.0->spacy-transformers) (12.4.127)\n",
      "Requirement already satisfied: nvidia-cudnn-cu12==9.1.0.70 in /opt/conda/lib/python3.11/site-packages (from torch>=1.8.0->spacy-transformers) (9.1.0.70)\n",
      "Requirement already satisfied: nvidia-cublas-cu12==12.4.5.8 in /opt/conda/lib/python3.11/site-packages (from torch>=1.8.0->spacy-transformers) (12.4.5.8)\n",
      "Requirement already satisfied: nvidia-cufft-cu12==11.2.1.3 in /opt/conda/lib/python3.11/site-packages (from torch>=1.8.0->spacy-transformers) (11.2.1.3)\n",
      "Requirement already satisfied: nvidia-curand-cu12==10.3.5.147 in /opt/conda/lib/python3.11/site-packages (from torch>=1.8.0->spacy-transformers) (10.3.5.147)\n",
      "Requirement already satisfied: nvidia-cusolver-cu12==11.6.1.9 in /opt/conda/lib/python3.11/site-packages (from torch>=1.8.0->spacy-transformers) (11.6.1.9)\n",
      "Requirement already satisfied: nvidia-cusparse-cu12==12.3.1.170 in /opt/conda/lib/python3.11/site-packages (from torch>=1.8.0->spacy-transformers) (12.3.1.170)\n",
      "Requirement already satisfied: nvidia-cusparselt-cu12==0.6.2 in /opt/conda/lib/python3.11/site-packages (from torch>=1.8.0->spacy-transformers) (0.6.2)\n",
      "Requirement already satisfied: nvidia-nccl-cu12==2.21.5 in /opt/conda/lib/python3.11/site-packages (from torch>=1.8.0->spacy-transformers) (2.21.5)\n",
      "Requirement already satisfied: nvidia-nvtx-cu12==12.4.127 in /opt/conda/lib/python3.11/site-packages (from torch>=1.8.0->spacy-transformers) (12.4.127)\n",
      "Requirement already satisfied: nvidia-nvjitlink-cu12==12.4.127 in /opt/conda/lib/python3.11/site-packages (from torch>=1.8.0->spacy-transformers) (12.4.127)\n",
      "Requirement already satisfied: triton==3.2.0 in /opt/conda/lib/python3.11/site-packages (from torch>=1.8.0->spacy-transformers) (3.2.0)\n",
      "Requirement already satisfied: sympy==1.13.1 in /opt/conda/lib/python3.11/site-packages (from torch>=1.8.0->spacy-transformers) (1.13.1)\n",
      "Requirement already satisfied: mpmath<1.4,>=1.1.0 in /opt/conda/lib/python3.11/site-packages (from sympy==1.13.1->torch>=1.8.0->spacy-transformers) (1.3.0)\n",
      "Requirement already satisfied: huggingface-hub<1.0,>=0.26.0 in /opt/conda/lib/python3.11/site-packages (from transformers<4.50.0,>=3.4.0->spacy-transformers) (0.30.1)\n",
      "Requirement already satisfied: pyyaml>=5.1 in /opt/conda/lib/python3.11/site-packages (from transformers<4.50.0,>=3.4.0->spacy-transformers) (6.0.1)\n",
      "Requirement already satisfied: regex!=2019.12.17 in /opt/conda/lib/python3.11/site-packages (from transformers<4.50.0,>=3.4.0->spacy-transformers) (2024.11.6)\n",
      "Requirement already satisfied: tokenizers<0.22,>=0.21 in /opt/conda/lib/python3.11/site-packages (from transformers<4.50.0,>=3.4.0->spacy-transformers) (0.21.1)\n",
      "Requirement already satisfied: safetensors>=0.4.1 in /opt/conda/lib/python3.11/site-packages (from transformers<4.50.0,>=3.4.0->spacy-transformers) (0.5.3)\n",
      "Requirement already satisfied: click>=8.0.0 in /opt/conda/lib/python3.11/site-packages (from typer<1.0.0,>=0.3.0->spacy) (8.1.7)\n",
      "Requirement already satisfied: shellingham>=1.3.0 in /opt/conda/lib/python3.11/site-packages (from typer<1.0.0,>=0.3.0->spacy) (1.5.4)\n",
      "Requirement already satisfied: rich>=10.11.0 in /opt/conda/lib/python3.11/site-packages (from typer<1.0.0,>=0.3.0->spacy) (14.0.0)\n",
      "Requirement already satisfied: cloudpathlib<1.0.0,>=0.7.0 in /opt/conda/lib/python3.11/site-packages (from weasel<0.5.0,>=0.1.0->spacy) (0.21.0)\n",
      "Requirement already satisfied: smart-open<8.0.0,>=5.2.1 in /opt/conda/lib/python3.11/site-packages (from weasel<0.5.0,>=0.1.0->spacy) (7.1.0)\n",
      "Requirement already satisfied: MarkupSafe>=2.0 in /opt/conda/lib/python3.11/site-packages (from jinja2->spacy) (2.1.3)\n",
      "Requirement already satisfied: marisa-trie>=1.1.0 in /opt/conda/lib/python3.11/site-packages (from language-data>=1.2->langcodes<4.0.0,>=3.2.0->spacy) (1.2.1)\n",
      "Requirement already satisfied: markdown-it-py>=2.2.0 in /opt/conda/lib/python3.11/site-packages (from rich>=10.11.0->typer<1.0.0,>=0.3.0->spacy) (3.0.0)\n",
      "Requirement already satisfied: pygments<3.0.0,>=2.13.0 in /opt/conda/lib/python3.11/site-packages (from rich>=10.11.0->typer<1.0.0,>=0.3.0->spacy) (2.16.1)\n",
      "Requirement already satisfied: wrapt in /opt/conda/lib/python3.11/site-packages (from smart-open<8.0.0,>=5.2.1->weasel<0.5.0,>=0.1.0->spacy) (1.17.2)\n",
      "Requirement already satisfied: mdurl~=0.1 in /opt/conda/lib/python3.11/site-packages (from markdown-it-py>=2.2.0->rich>=10.11.0->typer<1.0.0,>=0.3.0->spacy) (0.1.2)\n",
      "Collecting ru-core-news-lg==3.8.0\n",
      "  Downloading https://github.com/explosion/spacy-models/releases/download/ru_core_news_lg-3.8.0/ru_core_news_lg-3.8.0-py3-none-any.whl (513.4 MB)\n",
      "\u001b[2K     \u001b[90m━━━━━━━━━━━━━━━━━━━━━━━━━━━━━━━━━━━━━━━\u001b[0m \u001b[32m513.4/513.4 MB\u001b[0m \u001b[31m1.1 MB/s\u001b[0m eta \u001b[36m0:00:00\u001b[0m00:01\u001b[0m00:10\u001b[0m\n",
      "\u001b[?25hRequirement already satisfied: pymorphy3>=1.0.0 in /opt/conda/lib/python3.11/site-packages (from ru-core-news-lg==3.8.0) (2.0.3)\n",
      "Requirement already satisfied: dawg2-python>=0.8.0 in /opt/conda/lib/python3.11/site-packages (from pymorphy3>=1.0.0->ru-core-news-lg==3.8.0) (0.9.0)\n",
      "Requirement already satisfied: pymorphy3-dicts-ru in /opt/conda/lib/python3.11/site-packages (from pymorphy3>=1.0.0->ru-core-news-lg==3.8.0) (2.4.417150.4580142)\n",
      "\u001b[38;5;2m✔ Download and installation successful\u001b[0m\n",
      "You can now load the package via spacy.load('ru_core_news_lg')\n"
     ]
    }
   ],
   "source": [
    "!pip install spacy spacy-transformers\n",
    "!python -m spacy download ru_core_news_lg"
   ]
  },
  {
   "cell_type": "code",
   "execution_count": 10,
   "metadata": {
    "colab": {
     "base_uri": "https://localhost:8080/"
    },
    "executionInfo": {
     "elapsed": 19058,
     "status": "ok",
     "timestamp": 1742827005004,
     "user": {
      "displayName": "Данила Никонов",
      "userId": "11702314398238835712"
     },
     "user_tz": -180
    },
    "id": "6qVc0o5P7EC-",
    "outputId": "041f9980-aa5d-4e9e-d1cf-d111ad731850",
    "scrolled": true
   },
   "outputs": [
    {
     "name": "stdout",
     "output_type": "stream",
     "text": [
      "\u001b[38;5;4mℹ Auto-detected token-per-line NER format\u001b[0m\n",
      "\u001b[38;5;4mℹ Grouping every 1 sentences into a document.\u001b[0m\n",
      "\u001b[38;5;3m⚠ To generate better training data, you may want to group sentences\n",
      "into documents with `-n 10`.\u001b[0m\n",
      "\u001b[38;5;2m✔ Generated output file (1 documents): data/all_ner_train.json\u001b[0m\n",
      "\u001b[38;5;4mℹ Auto-detected token-per-line NER format\u001b[0m\n",
      "\u001b[38;5;4mℹ Grouping every 1 sentences into a document.\u001b[0m\n",
      "\u001b[38;5;3m⚠ To generate better training data, you may want to group sentences\n",
      "into documents with `-n 10`.\u001b[0m\n",
      "\u001b[38;5;2m✔ Generated output file (1 documents): data/all_ner_test.json\u001b[0m\n"
     ]
    }
   ],
   "source": [
    "!python -m spacy convert ./\"init dataset\"/all_ner_train.tsv ./data -t json -n 1 -c iob -l ru\n",
    "!python -m spacy convert ./\"init dataset\"/all_ner_test.tsv ./data -t json -n 1 -c iob -l ru"
   ]
  },
  {
   "cell_type": "code",
   "execution_count": 11,
   "metadata": {
    "colab": {
     "base_uri": "https://localhost:8080/"
    },
    "executionInfo": {
     "elapsed": 22592,
     "status": "ok",
     "timestamp": 1742827027600,
     "user": {
      "displayName": "Данила Никонов",
      "userId": "11702314398238835712"
     },
     "user_tz": -180
    },
    "id": "ScJ5-vqq9plU",
    "outputId": "15370374-4bc6-4cd5-bb32-f0ad3e1f2564"
   },
   "outputs": [
    {
     "name": "stdout",
     "output_type": "stream",
     "text": [
      "\u001b[38;5;2m✔ Generated output file (259 documents): data/all_ner_test.spacy\u001b[0m\n",
      "\u001b[38;5;2m✔ Generated output file (2322 documents): data/all_ner_train.spacy\u001b[0m\n"
     ]
    }
   ],
   "source": [
    "!python -m spacy convert ./data/all_ner_test.json ./data -t spacy\n",
    "!python -m spacy convert ./data/all_ner_train.json ./data -t spacy"
   ]
  },
  {
   "cell_type": "code",
   "execution_count": 2,
   "metadata": {
    "colab": {
     "base_uri": "https://localhost:8080/"
    },
    "executionInfo": {
     "elapsed": 61599,
     "status": "ok",
     "timestamp": 1742827089202,
     "user": {
      "displayName": "Данила Никонов",
      "userId": "11702314398238835712"
     },
     "user_tz": -180
    },
    "id": "vW0114QJ9-Eo",
    "outputId": "30db8261-1f3f-4ff3-b9d7-03bb85391a01"
   },
   "outputs": [
    {
     "name": "stdout",
     "output_type": "stream",
     "text": [
      "\u001b[1m\n",
      "============================ Data file validation ============================\u001b[0m\n",
      "Some weights of RobertaModel were not initialized from the model checkpoint at ai-forever/ruRoberta-large and are newly initialized: ['roberta.pooler.dense.bias', 'roberta.pooler.dense.weight']\n",
      "You should probably TRAIN this model on a down-stream task to be able to use it for predictions and inference.\n",
      "\u001b[38;5;2m✔ Pipeline can be initialized with data\u001b[0m\n",
      "\u001b[38;5;2m✔ Corpus is loadable\u001b[0m\n",
      "\u001b[1m\n",
      "=============================== Training stats ===============================\u001b[0m\n",
      "Language: ru\n",
      "Training pipeline: transformer, ner\n",
      "2322 training docs\n",
      "259 evaluation docs\n",
      "\u001b[38;5;2m✔ No overlap between training and evaluation data\u001b[0m\n",
      "\u001b[1m\n",
      "============================== Vocab & Vectors ==============================\u001b[0m\n",
      "\u001b[38;5;4mℹ 290812 total word(s) in the data (25120 unique)\u001b[0m\n",
      "\u001b[38;5;4mℹ 500002 vectors (500002 unique keys, 300 dimensions)\u001b[0m\n",
      "\u001b[38;5;3m⚠ 87399 words in training data without vectors (30%)\u001b[0m\n",
      "\u001b[1m\n",
      "================================== Summary ==================================\u001b[0m\n",
      "\u001b[38;5;2m✔ 3 checks passed\u001b[0m\n",
      "\u001b[38;5;3m⚠ 1 warning\u001b[0m\n"
     ]
    }
   ],
   "source": [
    "!python -m spacy debug data ./spacy_config.cfg --paths.train ./data/all_ner_train.spacy --paths.dev ./data/all_ner_test.spacy --code ./custom_factory.py"
   ]
  },
  {
   "cell_type": "code",
   "execution_count": null,
   "metadata": {
    "colab": {
     "base_uri": "https://localhost:8080/"
    },
    "id": "qUhOzPA3yH1x",
    "outputId": "454fce54-fb7c-4641-912c-8ad2571b7700"
   },
   "outputs": [
    {
     "name": "stdout",
     "output_type": "stream",
     "text": [
      "\u001b[38;5;4mℹ Saving to output directory: .\u001b[0m\n",
      "\u001b[38;5;4mℹ Using GPU: 0\u001b[0m\n",
      "\u001b[1m\n",
      "=========================== Initializing pipeline ===========================\u001b[0m\n",
      "2025-03-24 14:40:41.452165: E external/local_xla/xla/stream_executor/cuda/cuda_fft.cc:477] Unable to register cuFFT factory: Attempting to register factory for plugin cuFFT when one has already been registered\n",
      "WARNING: All log messages before absl::InitializeLog() is called are written to STDERR\n",
      "E0000 00:00:1742827241.469358    5672 cuda_dnn.cc:8310] Unable to register cuDNN factory: Attempting to register factory for plugin cuDNN when one has already been registered\n",
      "E0000 00:00:1742827241.489503    5672 cuda_blas.cc:1418] Unable to register cuBLAS factory: Attempting to register factory for plugin cuBLAS when one has already been registered\n",
      "2025-03-24 14:40:41.511337: I tensorflow/core/platform/cpu_feature_guard.cc:210] This TensorFlow binary is optimized to use available CPU instructions in performance-critical operations.\n",
      "To enable the following instructions: AVX2 FMA, in other operations, rebuild TensorFlow with the appropriate compiler flags.\n",
      "Some weights of RobertaModel were not initialized from the model checkpoint at ai-forever/ruRoberta-large and are newly initialized: ['roberta.pooler.dense.bias', 'roberta.pooler.dense.weight']\n",
      "You should probably TRAIN this model on a down-stream task to be able to use it for predictions and inference.\n",
      "\u001b[38;5;2m✔ Initialized pipeline\u001b[0m\n",
      "\u001b[1m\n",
      "============================= Training pipeline =============================\u001b[0m\n",
      "\u001b[38;5;4mℹ Pipeline: ['transformer', 'ner']\u001b[0m\n",
      "\u001b[38;5;4mℹ Initial learn rate: 0.0\u001b[0m\n",
      "E    #       LOSS TRANS...  LOSS NER  F1_MICRO  F1_MACRO  F1_WEIGHTED  F1_COMPONENT  F1_SYSTEM  F1_ATTRIBUTE  ENTS_P  ENTS_R  ENTS_F  SCORE \n",
      "---  ------  -------------  --------  --------  --------  -----------  ------------  ---------  ------------  ------  ------  ------  ------\n",
      "  0       0        4726.27    420.21      0.00      0.00         0.00          0.00       0.00          0.00    0.00    0.00    0.00    0.00\n",
      "  0      50      103397.74  15834.31      0.24      0.11         0.24          0.32       0.00          0.00   42.86    0.12    0.00    0.00\n",
      "  0     100        4875.95   9330.13     42.17     18.86        36.74         48.18       0.00          8.40   42.01   42.32    0.00    0.22\n",
      "  0     150        4315.03   7636.67     49.23     31.52        46.01         56.25      20.27         18.03   54.63   44.80    0.00    0.31\n",
      "  0     200        4894.47   7411.65     54.59     47.40        53.56         60.35      52.75         29.10   64.66   47.24    0.00    0.42\n",
      "  0     250        4306.89   6730.54     57.20     45.55        54.02         63.60      53.89         19.15   58.59   55.87    0.00    0.41\n",
      "  0     300        4476.40   7022.42     48.28     36.82        46.24         55.22      39.18         16.07   64.42   38.60    0.00    0.34\n",
      "  1     350        4105.20   6747.48     58.91     47.99        56.32         65.33      54.52         24.12   63.00   55.32    0.00    0.43\n",
      "  1     400        3927.03   6536.00     59.60     49.56        56.72         65.83      60.87         21.98   62.72   56.77    0.00    0.44\n",
      "  1     450        3546.53   6261.02     55.74     45.57        52.15         62.07      62.39         12.24   66.91   47.77    0.00    0.41\n",
      "  1     500        3505.11   6232.31     57.96     44.86        56.88         65.63      36.49         32.45   62.84   53.79    0.00    0.41\n",
      "  1     550        3614.04   6372.99     55.08     49.31        52.95         59.35      62.39         26.18   51.58   59.10    0.00    0.43\n",
      "  1     600        2991.13   5785.08     58.57     49.73        57.19         64.99      54.40         29.80   56.31   61.02    0.00    0.44\n",
      "  1     650        3353.45   6116.67     60.19     50.14        57.35         66.46      61.24         22.73   63.24   57.42    0.00    0.45\n",
      "  2     700        2938.13   5343.29     59.76     51.34        58.35         66.41      58.81         28.81   63.70   56.28    0.00    0.45\n",
      "  2     750        3014.78   5169.53     59.60     49.73        57.80         66.60      56.37         26.22   63.45   56.18    0.00    0.44\n",
      "  2     800        2869.97   5453.17     58.90     51.34        57.36         65.54      62.98         25.51   69.67   51.01    0.00    0.45\n",
      "  2     850        3216.14   5854.01     59.08     50.93        57.56         65.93      61.11         25.76   58.18   60.00    0.00    0.45\n",
      "  2     900        2596.58   4993.55     59.27     51.63        58.69         66.49      57.81         30.60   62.58   56.28    0.00    0.45\n",
      "  2     950        2706.89   5173.41     58.44     51.17        57.22         64.82      60.30         28.39   69.30   50.52    0.00    0.45\n",
      "  3    1000        2874.69   5221.23     58.05     50.44        57.82         65.62      55.43         30.28   59.87   56.34    0.00    0.44\n",
      "  3    1050        2473.91   4628.89     59.80     52.20        58.42         66.45      62.48         27.66   62.48   57.35    0.00    0.46\n",
      "  3    1100        2479.46   4493.99     58.16     49.43        56.14         64.81      60.59         22.90   65.08   52.57    0.00    0.44\n",
      "  3    1150        2295.04   4311.79     60.18     51.86        58.60         66.41      59.30         29.87   58.79   61.63    0.00    0.46\n",
      "  3    1200        2547.01   4664.78     59.54     51.52        58.11         66.44      61.64         26.49   64.07   55.61    0.00    0.45\n",
      "  3    1250        2463.41   4725.78     59.64     50.73        57.72         66.46      61.06         24.66   62.82   56.77    0.00    0.45\n",
      "  3    1300        2489.98   4831.06     58.99     53.49        59.21         66.34      61.94         32.19   58.57   59.43    0.00    0.47\n",
      "  4    1350        2555.67   4534.15     56.13     51.01        57.04         64.86      61.08         27.08   57.65   54.69    0.00    0.44\n",
      "  4    1400        2489.56   4358.92     59.15     51.35        57.34         65.71      63.91         24.45   65.25   54.10    0.00    0.45\n",
      "  4    1450        2215.99   4085.34     58.67     52.29        57.98         65.52      62.55         28.81   54.44   63.60    0.00    0.46\n",
      "  4    1500        1984.14   3978.32     58.86     51.23        57.86         66.26      61.54         25.90   58.66   59.06    0.00    0.45\n",
      "  4    1550        2133.04   4150.73     58.47     51.95        57.98         65.77      61.89         28.19   59.47   57.50    0.00    0.45\n",
      "  4    1600        1990.70   3749.49     59.08     51.97        58.01         65.60      61.10         29.21   62.30   56.17    0.00    0.45\n",
      "  4    1650        2092.99   4216.25     57.97     50.56        57.12         65.42      60.72         25.55   60.87   55.34    0.00    0.44\n",
      "  5    1700        1878.19   3345.25     58.60     53.11        58.44         65.55      62.83         30.95   60.25   57.03    0.00    0.46\n",
      "  5    1750        1856.77   3513.85     59.14     52.09        58.02         66.10      63.66         26.51   61.94   56.58    0.00    0.46\n",
      "  5    1800        2066.81   3257.64     60.55     53.53        59.84         67.22      60.80         32.59   60.40   60.69    0.00    0.47\n",
      "  5    1850        1781.96   3465.95     60.15     52.65        58.80         66.92      63.54         27.47   63.83   56.87    0.00    0.46\n",
      "  5    1900        1650.82   3239.00     59.30     53.03        58.50         66.46      65.82         26.80   62.39   56.50    0.00    0.46\n",
      "  5    1950        1834.79   3384.20     58.19     52.11        57.88         65.33      61.62         29.36   61.33   55.36    0.00    0.45\n",
      "  6    2000        1878.42   3411.19     57.73     53.43        58.14         64.85      63.89         31.56   57.58   57.88    0.00    0.46\n"
     ]
    }
   ],
   "source": [
    "!python -m spacy train ./data/spacy_config.cfg --paths.train ./data/all_ner_train.spacy --paths.dev ./data/all_ner_test.spacy --output ./training --gpu-id 0 --code ./data/custom_factory.py"
   ]
  },
  {
   "cell_type": "code",
   "execution_count": null,
   "metadata": {
    "colab": {
     "base_uri": "https://localhost:8080/"
    },
    "executionInfo": {
     "elapsed": 82687,
     "status": "ok",
     "timestamp": 1737115144894,
     "user": {
      "displayName": "Данила Никонов",
      "userId": "11702314398238835712"
     },
     "user_tz": -180
    },
    "id": "g_dy6mQnG_wU",
    "outputId": "9e5273e8-9ade-41e8-8b4f-a4feaa1de531",
    "scrolled": true
   },
   "outputs": [
    {
     "name": "stderr",
     "output_type": "stream",
     "text": [
      "/usr/local/lib/python3.11/dist-packages/transformers/utils/generic.py:441: FutureWarning: `torch.utils._pytree._register_pytree_node` is deprecated. Please use `torch.utils._pytree.register_pytree_node` instead.\n",
      "  _torch_pytree._register_pytree_node(\n",
      "/usr/local/lib/python3.11/dist-packages/transformers/utils/generic.py:309: FutureWarning: `torch.utils._pytree._register_pytree_node` is deprecated. Please use `torch.utils._pytree.register_pytree_node` instead.\n",
      "  _torch_pytree._register_pytree_node(\n",
      "/usr/local/lib/python3.11/dist-packages/transformers/utils/generic.py:309: FutureWarning: `torch.utils._pytree._register_pytree_node` is deprecated. Please use `torch.utils._pytree.register_pytree_node` instead.\n",
      "  _torch_pytree._register_pytree_node(\n",
      "/usr/local/lib/python3.11/dist-packages/spacy_transformers/layers/hf_shim.py:124: FutureWarning: You are using `torch.load` with `weights_only=False` (the current default value), which uses the default pickle module implicitly. It is possible to construct malicious pickle data which will execute arbitrary code during unpickling (See https://github.com/pytorch/pytorch/blob/main/SECURITY.md#untrusted-models for more details). In a future release, the default value for `weights_only` will be flipped to `True`. This limits the functions that could be executed during unpickling. Arbitrary objects will no longer be allowed to be loaded via this mode unless they are explicitly allowlisted by the user via `torch.serialization.add_safe_globals`. We recommend you start setting `weights_only=True` for any use case where you don't have full control of the loaded file. Please open an issue on GitHub for any issues related to this experimental feature.\n",
      "  self._model.load_state_dict(torch.load(filelike, map_location=device))\n"
     ]
    }
   ],
   "source": [
    "import spacy\n",
    "\n",
    "nlp = spacy.load(\"./training/model-best\")"
   ]
  },
  {
   "cell_type": "code",
   "execution_count": null,
   "metadata": {
    "colab": {
     "base_uri": "https://localhost:8080/"
    },
    "collapsed": true,
    "executionInfo": {
     "elapsed": 10402,
     "status": "ok",
     "timestamp": 1737115305145,
     "user": {
      "displayName": "Данила Никонов",
      "userId": "11702314398238835712"
     },
     "user_tz": -180
    },
    "id": "_46WPPYcHNY6",
    "jupyter": {
     "outputs_hidden": true
    },
    "outputId": "02e0492a-b031-4789-b75e-8fe94bc51a58",
    "scrolled": true
   },
   "outputs": [
    {
     "name": "stderr",
     "output_type": "stream",
     "text": [
      "/usr/local/lib/python3.11/dist-packages/thinc/shims/pytorch.py:114: FutureWarning: `torch.cuda.amp.autocast(args...)` is deprecated. Please use `torch.amp.autocast('cuda', args...)` instead.\n",
      "  with torch.cuda.amp.autocast(self._mixed_precision):\n"
     ]
    },
    {
     "name": "stdout",
     "output_type": "stream",
     "text": [
      "[('Вставка декоративная обивки двери салона автомобиля', 'SYSTEM'), ('удлиненного прямолинейного контура', 'ATTRIBUTE'), ('коробообразной формы', 'ATTRIBUTE'), ('поперечного сечения', 'ATTRIBUTE'), ('выполненная с возможностью фиксирования на обивке двери и креплением на ней устройства подсветки в сборе', 'SYSTEM'), ('посредством крепежно-фиксирующих элементов, конструктивно выполненных в виде зацепов', 'ATTRIBUTE'), ('приварных элементов', 'COMPONENT'), ('позиционирующих пинов', 'COMPONENT'), (', ответных отверстий', 'COMPONENT'), ('причем приварные элементы, равномерно сформированные по контуру тыльной стороны вставки декоративной, входят в зацепление с корпусом устройства подсветки через ответные отверстия', 'ATTRIBUTE'), (', жестко соединяя их методом сварки, а зацепы, равноудаленно сформированные на наружной поверхности корпуса устройства подсветки и выполненные с усилительными ребрами', 'ATTRIBUTE'), ('по боковым кромкам', 'ATTRIBUTE'), ('на переднем участке', 'ATTRIBUTE'), (', разнонаправленными под углом', 'ATTRIBUTE'), ('и основной поверхности', 'ATTRIBUTE'), (', входят в', 'SYSTEM'), ('ответными клипсами', 'COMPONENT'), (', предварительно установленными в поверхности соответствующей зоны обивки двери, эквидистантно расположению и количеству зацепов', 'ATTRIBUTE'), ('сопрягаемой поверхности', 'ATTRIBUTE'), (', позиционируя и ограничивая перемещение декоративной вставки относительно обивки двери', 'ATTRIBUTE'), (', позиционирующие пины', 'SYSTEM'), (', выполненные четырехгранными и', 'SYSTEM'), ('расположенными на концевых участках наружной поверхности', 'ATTRIBUTE'), ('устройства подсветки, позиционируют декоративную вставку на обивке двери', 'SYSTEM'), ('при монтаже, позиционирующий элемент типа «гарпун», расположенный по центру наружной поверхности', 'ATTRIBUTE'), ('устройства подсветки,', 'SYSTEM'), ('фиксирует декоративную вставку на обивке двери', 'ATTRIBUTE'), (', ограничивая перемещение', 'SYSTEM'), ('в направлении «на вылет» из посадочных мест', 'ATTRIBUTE')]\n"
     ]
    }
   ],
   "source": [
    "text = [\n",
    "    \"Вставка декоративная обивки двери салона автомобиля удлиненного прямолинейного контура коробообразной формы поперечного сечения, выполненная с возможностью фиксирования на обивке двери и креплением на ней устройства подсветки в сборе посредством крепежно-фиксирующих элементов, конструктивно выполненных в виде зацепов, приварных элементов, позиционирующих пинов, ответных отверстий и клипс, причем приварные элементы, равномерно сформированные по контуру тыльной стороны вставки декоративной, входят в зацепление с корпусом устройства подсветки через ответные отверстия, жестко соединяя их методом сварки, а зацепы, равноудаленно сформированные на наружной поверхности корпуса устройства подсветки и выполненные с усилительными ребрами по боковым кромкам на переднем участке, разнонаправленными под углом друг к другу и основной поверхности зацепов, входят в зацепление с ответными клипсами, предварительно установленными в поверхности соответствующей зоны обивки двери, эквидистантно расположению и количеству зацепов сопрягаемой поверхности, позиционируя и ограничивая перемещение декоративной вставки относительно обивки двери, позиционирующие пины, выполненные четырехгранными и расположенными на концевых участках наружной поверхности корпуса устройства подсветки, позиционируют декоративную вставку на обивке двери при монтаже, позиционирующий элемент типа «гарпун», расположенный по центру наружной поверхности корпуса устройства подсветки, фиксирует декоративную вставку на обивке двери, ограничивая перемещение декоративной вставки в направлении «на вылет» из посадочных мест.\"\n",
    "]\n",
    "\n",
    "for doc in nlp.pipe(text, disable=[\"tagger\", \"parser\"]):\n",
    "  print([(ent.text, ent.label_) for ent in doc.ents])"
   ]
  }
 ],
 "metadata": {
  "accelerator": "GPU",
  "colab": {
   "authorship_tag": "ABX9TyM6bMa17AvkW/03wzCXhoR6",
   "gpuType": "T4",
   "mount_file_id": "1jN8JR5dLu5eK97IP_vdKHn3vgTI9Shkc",
   "provenance": []
  },
  "kernelspec": {
   "display_name": "Python 3 (ipykernel)",
   "language": "python",
   "name": "python3"
  },
  "language_info": {
   "codemirror_mode": {
    "name": "ipython",
    "version": 3
   },
   "file_extension": ".py",
   "mimetype": "text/x-python",
   "name": "python",
   "nbconvert_exporter": "python",
   "pygments_lexer": "ipython3",
   "version": "3.11.6"
  }
 },
 "nbformat": 4,
 "nbformat_minor": 4
}
