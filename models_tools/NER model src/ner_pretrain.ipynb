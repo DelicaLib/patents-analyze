{
 "cells": [
  {
   "cell_type": "code",
   "execution_count": null,
   "id": "78662728-ec0b-4764-ba91-395802d6f13f",
   "metadata": {},
   "outputs": [],
   "source": [
    "!pip install spacy\n",
    "!pip install spacy-transformers\n",
    "!python -m spacy download ru_core_news_lg"
   ]
  },
  {
   "cell_type": "code",
   "execution_count": null,
   "id": "f04c147e-eced-45ba-9ad1-8521fd5e515f",
   "metadata": {},
   "outputs": [],
   "source": [
    "!python -m spacy convert ./\"init dataset\"/all_ner_test.tsv ./data -t json -n 1 -c iob -l ru\n",
    "!python -m spacy convert ./\"init dataset\"/all_ner_test.tsv ./data -t json -n 1 -c iob -l ru"
   ]
  },
  {
   "cell_type": "code",
   "execution_count": null,
   "id": "803fc0cf-ad07-4cee-aae7-8469d2443946",
   "metadata": {},
   "outputs": [],
   "source": [
    "!python -m spacy convert ./data/all_ner_train.json ./data/ -t spacy\n",
    "!python -m spacy convert ./data/all_ner_test.json ./data/ -t spacy"
   ]
  },
  {
   "cell_type": "code",
   "execution_count": null,
   "id": "98a77ce5-5ddb-484d-896e-c1afac637969",
   "metadata": {},
   "outputs": [],
   "source": [
    "import typer\n",
    "from pathlib import Path\n",
    "\n",
    "import spacy\n",
    "\n",
    "def create_config(model_name: str, component_to_update: str, output_path: Path):\n",
    "    nlp = spacy.load(model_name)\n",
    "\n",
    "    # create a new config as a copy of the loaded pipeline's config\n",
    "    config = nlp.config.copy()\n",
    "\n",
    "    # revert most training settings to the current defaults\n",
    "    default_config = spacy.blank(nlp.lang).config\n",
    "    config[\"corpora\"] = default_config[\"corpora\"]\n",
    "    config[\"training\"][\"logger\"] = default_config[\"training\"][\"logger\"]\n",
    "\n",
    "    config[\"initialize\"][\"before_init\"] = {\n",
    "        \"@callbacks\": \"spacy.copy_from_base_model.v1\",\n",
    "        \"tokenizer\": model_name,\n",
    "        \"vocab\": model_name,\n",
    "    }\n",
    "    config[\"initialize\"][\"lookups\"] = None\n",
    "    config[\"initialize\"][\"vectors\"] = None\n",
    "\n",
    "    config[\"training\"][\"frozen_components\"] = []\n",
    "    for pipe_name in nlp.component_names:\n",
    "        if pipe_name != component_to_update:\n",
    "            config[\"components\"][pipe_name] = {\"source\": model_name}\n",
    "            config[\"training\"][\"frozen_components\"].append(pipe_name)\n",
    "        else:\n",
    "            config[\"components\"][pipe_name] = {\n",
    "                \"source\": model_name,\n",
    "                \"replace_listeners\": [\"model.tok2vec\"],\n",
    "            }\n",
    "\n",
    "    config.to_disk(output_path)\n"
   ]
  },
  {
   "cell_type": "code",
   "execution_count": null,
   "id": "50a42092-0cb8-42c0-b308-c930ab4be691",
   "metadata": {},
   "outputs": [],
   "source": [
    "!pip install \"ru_patents_ner @ https://huggingface.co/Delicalib/ru_patents_ner/resolve/main/ru_patents_ner-any-py3-none-any.whl\""
   ]
  },
  {
   "cell_type": "code",
   "execution_count": null,
   "id": "ae6c7a78-6c13-4b8f-9f63-095e7d81a294",
   "metadata": {},
   "outputs": [],
   "source": [
    "create_config(\"ru_patents_ner\", \"ner\", \"./pretrain_config.cfg\")"
   ]
  },
  {
   "cell_type": "code",
   "execution_count": null,
   "id": "bd77dd64-da62-42b7-8555-4744ca389af2",
   "metadata": {},
   "outputs": [],
   "source": [
    "!python -m spacy train ./pretrain_config.cfg --output ./training/ --paths.train ./data/all_ner_train.spacy --paths.dev ./data/all_ner_test.spacy --training.eval_frequency 10 --training.max_steps 500 --training.patience 50 --gpu-id 0"
   ]
  }
 ],
 "metadata": {
  "kernelspec": {
   "display_name": "Python 3 (ipykernel)",
   "language": "python",
   "name": "python3"
  },
  "language_info": {
   "codemirror_mode": {
    "name": "ipython",
    "version": 3
   },
   "file_extension": ".py",
   "mimetype": "text/x-python",
   "name": "python",
   "nbconvert_exporter": "python",
   "pygments_lexer": "ipython3",
   "version": "3.11.6"
  }
 },
 "nbformat": 4,
 "nbformat_minor": 5
}
