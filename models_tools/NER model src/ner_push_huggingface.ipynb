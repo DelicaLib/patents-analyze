{
 "cells": [
  {
   "cell_type": "code",
   "execution_count": null,
   "id": "ff5397e0-e20c-4b8f-9b27-d1e30898ff88",
   "metadata": {},
   "outputs": [],
   "source": [
    "!pip install spacy\n",
    "!pip install spacy-transformers\n",
    "!python -m spacy download ru_core_news_lg"
   ]
  },
  {
   "cell_type": "code",
   "execution_count": null,
   "id": "dd483f2b-dcad-4013-aeef-5f2f4e189e5d",
   "metadata": {},
   "outputs": [],
   "source": [
    "!python -m spacy package ./training/model-best ./ru_patents_ner --build wheel --name patents_ner --version 1.0.0"
   ]
  },
  {
   "cell_type": "code",
   "execution_count": null,
   "id": "b4b085af-dad6-47c5-84f0-6ce22e818228",
   "metadata": {},
   "outputs": [],
   "source": [
    "!pip install spacy-huggingface-hub\n",
    "!huggingface-cli login"
   ]
  },
  {
   "cell_type": "code",
   "execution_count": null,
   "id": "4274d0c9-b5f7-4d62-b772-f8d74076509b",
   "metadata": {},
   "outputs": [],
   "source": [
    "!python -m spacy huggingface-hub push ./ru_patents_ner/ru_patents_ner-1.0.0/dist/ru_patents_ner-1.0.0-py3-none-any.whl"
   ]
  }
 ],
 "metadata": {
  "kernelspec": {
   "display_name": "Python 3 (ipykernel)",
   "language": "python",
   "name": "python3"
  },
  "language_info": {
   "codemirror_mode": {
    "name": "ipython",
    "version": 3
   },
   "file_extension": ".py",
   "mimetype": "text/x-python",
   "name": "python",
   "nbconvert_exporter": "python",
   "pygments_lexer": "ipython3",
   "version": "3.11.6"
  }
 },
 "nbformat": 4,
 "nbformat_minor": 5
}
