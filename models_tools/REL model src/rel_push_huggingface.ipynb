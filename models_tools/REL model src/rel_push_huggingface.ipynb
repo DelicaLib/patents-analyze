{
 "cells": [
  {
   "cell_type": "code",
   "execution_count": null,
   "id": "4ea3244b-fe0c-40b1-9c78-f6fe2948d82b",
   "metadata": {},
   "outputs": [],
   "source": [
    "!pip install spacy-transformers\n",
    "!python -m spacy download ru_core_news_lg"
   ]
  },
  {
   "cell_type": "code",
   "execution_count": null,
   "id": "b78a7ca7-4401-4419-9d32-469836fd590f",
   "metadata": {},
   "outputs": [],
   "source": [
    "!python -m spacy package ./rel_component/training/model-best ./ru_patents_rel --name patents_rel --version 1.0.0 --force --code ./relationFactory.py --build wheel"
   ]
  },
  {
   "cell_type": "code",
   "execution_count": null,
   "id": "8b64048f-abb2-40cb-b036-6edabcf70c8d",
   "metadata": {},
   "outputs": [],
   "source": [
    "!pip install spacy-huggingface-hub\n",
    "!huggingface-cli login"
   ]
  },
  {
   "cell_type": "code",
   "execution_count": null,
   "id": "f6659f11-6b23-418a-bf4d-e8d12dc918c3",
   "metadata": {},
   "outputs": [],
   "source": [
    "!python -m spacy huggingface-hub push ./ru_patents_rel/ru_patents_rel-1.0.0/dist/ru_patents_rel-1.0.0-py3-none-any.whl"
   ]
  }
 ],
 "metadata": {
  "kernelspec": {
   "display_name": "Python 3 (ipykernel)",
   "language": "python",
   "name": "python3"
  },
  "language_info": {
   "codemirror_mode": {
    "name": "ipython",
    "version": 3
   },
   "file_extension": ".py",
   "mimetype": "text/x-python",
   "name": "python",
   "nbconvert_exporter": "python",
   "pygments_lexer": "ipython3",
   "version": "3.11.6"
  }
 },
 "nbformat": 4,
 "nbformat_minor": 5
}
