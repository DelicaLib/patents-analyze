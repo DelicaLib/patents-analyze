{
 "cells": [
  {
   "cell_type": "code",
   "execution_count": 3,
   "metadata": {
    "colab": {
     "base_uri": "https://localhost:8080/"
    },
    "executionInfo": {
     "elapsed": 34643,
     "status": "ok",
     "timestamp": 1742310077517,
     "user": {
      "displayName": "Данила Никонов",
      "userId": "11702314398238835712"
     },
     "user_tz": -180
    },
    "id": "pYsMhZyjSFCx",
    "outputId": "8f9dffe8-9b61-4e30-a64b-77e7b294737a",
    "scrolled": true
   },
   "outputs": [
    {
     "name": "stdout",
     "output_type": "stream",
     "text": [
      "Requirement already satisfied: spacy-transformers in /opt/conda/lib/python3.11/site-packages (1.3.8)\n",
      "Requirement already satisfied: spacy<4.1.0,>=3.5.0 in /opt/conda/lib/python3.11/site-packages (from spacy-transformers) (3.8.5)\n",
      "Requirement already satisfied: numpy>=1.19.0 in /opt/conda/lib/python3.11/site-packages (from spacy-transformers) (1.24.4)\n",
      "Requirement already satisfied: transformers<4.50.0,>=3.4.0 in /opt/conda/lib/python3.11/site-packages (from spacy-transformers) (4.49.0)\n",
      "Requirement already satisfied: torch>=1.8.0 in /opt/conda/lib/python3.11/site-packages (from spacy-transformers) (2.6.0)\n",
      "Requirement already satisfied: srsly<3.0.0,>=2.4.0 in /opt/conda/lib/python3.11/site-packages (from spacy-transformers) (2.5.1)\n",
      "Requirement already satisfied: spacy-alignments<1.0.0,>=0.7.2 in /opt/conda/lib/python3.11/site-packages (from spacy-transformers) (0.9.1)\n",
      "Requirement already satisfied: spacy-legacy<3.1.0,>=3.0.11 in /opt/conda/lib/python3.11/site-packages (from spacy<4.1.0,>=3.5.0->spacy-transformers) (3.0.12)\n",
      "Requirement already satisfied: spacy-loggers<2.0.0,>=1.0.0 in /opt/conda/lib/python3.11/site-packages (from spacy<4.1.0,>=3.5.0->spacy-transformers) (1.0.5)\n",
      "Requirement already satisfied: murmurhash<1.1.0,>=0.28.0 in /opt/conda/lib/python3.11/site-packages (from spacy<4.1.0,>=3.5.0->spacy-transformers) (1.0.12)\n",
      "Requirement already satisfied: cymem<2.1.0,>=2.0.2 in /opt/conda/lib/python3.11/site-packages (from spacy<4.1.0,>=3.5.0->spacy-transformers) (2.0.11)\n",
      "Requirement already satisfied: preshed<3.1.0,>=3.0.2 in /opt/conda/lib/python3.11/site-packages (from spacy<4.1.0,>=3.5.0->spacy-transformers) (3.0.9)\n",
      "Requirement already satisfied: thinc<8.4.0,>=8.3.4 in /opt/conda/lib/python3.11/site-packages (from spacy<4.1.0,>=3.5.0->spacy-transformers) (8.3.4)\n",
      "Requirement already satisfied: wasabi<1.2.0,>=0.9.1 in /opt/conda/lib/python3.11/site-packages (from spacy<4.1.0,>=3.5.0->spacy-transformers) (1.1.3)\n",
      "Requirement already satisfied: catalogue<2.1.0,>=2.0.6 in /opt/conda/lib/python3.11/site-packages (from spacy<4.1.0,>=3.5.0->spacy-transformers) (2.0.10)\n",
      "Requirement already satisfied: weasel<0.5.0,>=0.1.0 in /opt/conda/lib/python3.11/site-packages (from spacy<4.1.0,>=3.5.0->spacy-transformers) (0.4.1)\n",
      "Requirement already satisfied: typer<1.0.0,>=0.3.0 in /opt/conda/lib/python3.11/site-packages (from spacy<4.1.0,>=3.5.0->spacy-transformers) (0.15.2)\n",
      "Requirement already satisfied: tqdm<5.0.0,>=4.38.0 in /opt/conda/lib/python3.11/site-packages (from spacy<4.1.0,>=3.5.0->spacy-transformers) (4.66.1)\n",
      "Requirement already satisfied: requests<3.0.0,>=2.13.0 in /opt/conda/lib/python3.11/site-packages (from spacy<4.1.0,>=3.5.0->spacy-transformers) (2.31.0)\n",
      "Requirement already satisfied: pydantic!=1.8,!=1.8.1,<3.0.0,>=1.7.4 in /opt/conda/lib/python3.11/site-packages (from spacy<4.1.0,>=3.5.0->spacy-transformers) (2.11.2)\n",
      "Requirement already satisfied: jinja2 in /opt/conda/lib/python3.11/site-packages (from spacy<4.1.0,>=3.5.0->spacy-transformers) (3.1.2)\n",
      "Requirement already satisfied: setuptools in /opt/conda/lib/python3.11/site-packages (from spacy<4.1.0,>=3.5.0->spacy-transformers) (68.2.2)\n",
      "Requirement already satisfied: packaging>=20.0 in /opt/conda/lib/python3.11/site-packages (from spacy<4.1.0,>=3.5.0->spacy-transformers) (23.2)\n",
      "Requirement already satisfied: langcodes<4.0.0,>=3.2.0 in /opt/conda/lib/python3.11/site-packages (from spacy<4.1.0,>=3.5.0->spacy-transformers) (3.5.0)\n",
      "Requirement already satisfied: filelock in /opt/conda/lib/python3.11/site-packages (from torch>=1.8.0->spacy-transformers) (3.18.0)\n",
      "Requirement already satisfied: typing-extensions>=4.10.0 in /opt/conda/lib/python3.11/site-packages (from torch>=1.8.0->spacy-transformers) (4.13.1)\n",
      "Requirement already satisfied: networkx in /opt/conda/lib/python3.11/site-packages (from torch>=1.8.0->spacy-transformers) (3.2)\n",
      "Requirement already satisfied: fsspec in /opt/conda/lib/python3.11/site-packages (from torch>=1.8.0->spacy-transformers) (2023.9.2)\n",
      "Requirement already satisfied: nvidia-cuda-nvrtc-cu12==12.4.127 in /opt/conda/lib/python3.11/site-packages (from torch>=1.8.0->spacy-transformers) (12.4.127)\n",
      "Requirement already satisfied: nvidia-cuda-runtime-cu12==12.4.127 in /opt/conda/lib/python3.11/site-packages (from torch>=1.8.0->spacy-transformers) (12.4.127)\n",
      "Requirement already satisfied: nvidia-cuda-cupti-cu12==12.4.127 in /opt/conda/lib/python3.11/site-packages (from torch>=1.8.0->spacy-transformers) (12.4.127)\n",
      "Requirement already satisfied: nvidia-cudnn-cu12==9.1.0.70 in /opt/conda/lib/python3.11/site-packages (from torch>=1.8.0->spacy-transformers) (9.1.0.70)\n",
      "Requirement already satisfied: nvidia-cublas-cu12==12.4.5.8 in /opt/conda/lib/python3.11/site-packages (from torch>=1.8.0->spacy-transformers) (12.4.5.8)\n",
      "Requirement already satisfied: nvidia-cufft-cu12==11.2.1.3 in /opt/conda/lib/python3.11/site-packages (from torch>=1.8.0->spacy-transformers) (11.2.1.3)\n",
      "Requirement already satisfied: nvidia-curand-cu12==10.3.5.147 in /opt/conda/lib/python3.11/site-packages (from torch>=1.8.0->spacy-transformers) (10.3.5.147)\n",
      "Requirement already satisfied: nvidia-cusolver-cu12==11.6.1.9 in /opt/conda/lib/python3.11/site-packages (from torch>=1.8.0->spacy-transformers) (11.6.1.9)\n",
      "Requirement already satisfied: nvidia-cusparse-cu12==12.3.1.170 in /opt/conda/lib/python3.11/site-packages (from torch>=1.8.0->spacy-transformers) (12.3.1.170)\n",
      "Requirement already satisfied: nvidia-cusparselt-cu12==0.6.2 in /opt/conda/lib/python3.11/site-packages (from torch>=1.8.0->spacy-transformers) (0.6.2)\n",
      "Requirement already satisfied: nvidia-nccl-cu12==2.21.5 in /opt/conda/lib/python3.11/site-packages (from torch>=1.8.0->spacy-transformers) (2.21.5)\n",
      "Requirement already satisfied: nvidia-nvtx-cu12==12.4.127 in /opt/conda/lib/python3.11/site-packages (from torch>=1.8.0->spacy-transformers) (12.4.127)\n",
      "Requirement already satisfied: nvidia-nvjitlink-cu12==12.4.127 in /opt/conda/lib/python3.11/site-packages (from torch>=1.8.0->spacy-transformers) (12.4.127)\n",
      "Requirement already satisfied: triton==3.2.0 in /opt/conda/lib/python3.11/site-packages (from torch>=1.8.0->spacy-transformers) (3.2.0)\n",
      "Requirement already satisfied: sympy==1.13.1 in /opt/conda/lib/python3.11/site-packages (from torch>=1.8.0->spacy-transformers) (1.13.1)\n",
      "Requirement already satisfied: mpmath<1.4,>=1.1.0 in /opt/conda/lib/python3.11/site-packages (from sympy==1.13.1->torch>=1.8.0->spacy-transformers) (1.3.0)\n",
      "Requirement already satisfied: huggingface-hub<1.0,>=0.26.0 in /opt/conda/lib/python3.11/site-packages (from transformers<4.50.0,>=3.4.0->spacy-transformers) (0.30.1)\n",
      "Requirement already satisfied: pyyaml>=5.1 in /opt/conda/lib/python3.11/site-packages (from transformers<4.50.0,>=3.4.0->spacy-transformers) (6.0.1)\n",
      "Requirement already satisfied: regex!=2019.12.17 in /opt/conda/lib/python3.11/site-packages (from transformers<4.50.0,>=3.4.0->spacy-transformers) (2024.11.6)\n",
      "Requirement already satisfied: tokenizers<0.22,>=0.21 in /opt/conda/lib/python3.11/site-packages (from transformers<4.50.0,>=3.4.0->spacy-transformers) (0.21.1)\n",
      "Requirement already satisfied: safetensors>=0.4.1 in /opt/conda/lib/python3.11/site-packages (from transformers<4.50.0,>=3.4.0->spacy-transformers) (0.5.3)\n",
      "Requirement already satisfied: language-data>=1.2 in /opt/conda/lib/python3.11/site-packages (from langcodes<4.0.0,>=3.2.0->spacy<4.1.0,>=3.5.0->spacy-transformers) (1.3.0)\n",
      "Requirement already satisfied: annotated-types>=0.6.0 in /opt/conda/lib/python3.11/site-packages (from pydantic!=1.8,!=1.8.1,<3.0.0,>=1.7.4->spacy<4.1.0,>=3.5.0->spacy-transformers) (0.7.0)\n",
      "Requirement already satisfied: pydantic-core==2.33.1 in /opt/conda/lib/python3.11/site-packages (from pydantic!=1.8,!=1.8.1,<3.0.0,>=1.7.4->spacy<4.1.0,>=3.5.0->spacy-transformers) (2.33.1)\n",
      "Requirement already satisfied: typing-inspection>=0.4.0 in /opt/conda/lib/python3.11/site-packages (from pydantic!=1.8,!=1.8.1,<3.0.0,>=1.7.4->spacy<4.1.0,>=3.5.0->spacy-transformers) (0.4.0)\n",
      "Requirement already satisfied: charset-normalizer<4,>=2 in /opt/conda/lib/python3.11/site-packages (from requests<3.0.0,>=2.13.0->spacy<4.1.0,>=3.5.0->spacy-transformers) (3.3.0)\n",
      "Requirement already satisfied: idna<4,>=2.5 in /opt/conda/lib/python3.11/site-packages (from requests<3.0.0,>=2.13.0->spacy<4.1.0,>=3.5.0->spacy-transformers) (3.4)\n",
      "Requirement already satisfied: urllib3<3,>=1.21.1 in /opt/conda/lib/python3.11/site-packages (from requests<3.0.0,>=2.13.0->spacy<4.1.0,>=3.5.0->spacy-transformers) (2.0.7)\n",
      "Requirement already satisfied: certifi>=2017.4.17 in /opt/conda/lib/python3.11/site-packages (from requests<3.0.0,>=2.13.0->spacy<4.1.0,>=3.5.0->spacy-transformers) (2023.7.22)\n",
      "Requirement already satisfied: blis<1.3.0,>=1.2.0 in /opt/conda/lib/python3.11/site-packages (from thinc<8.4.0,>=8.3.4->spacy<4.1.0,>=3.5.0->spacy-transformers) (1.2.1)\n",
      "Requirement already satisfied: confection<1.0.0,>=0.0.1 in /opt/conda/lib/python3.11/site-packages (from thinc<8.4.0,>=8.3.4->spacy<4.1.0,>=3.5.0->spacy-transformers) (0.1.5)\n",
      "Requirement already satisfied: click>=8.0.0 in /opt/conda/lib/python3.11/site-packages (from typer<1.0.0,>=0.3.0->spacy<4.1.0,>=3.5.0->spacy-transformers) (8.1.7)\n",
      "Requirement already satisfied: shellingham>=1.3.0 in /opt/conda/lib/python3.11/site-packages (from typer<1.0.0,>=0.3.0->spacy<4.1.0,>=3.5.0->spacy-transformers) (1.5.4)\n",
      "Requirement already satisfied: rich>=10.11.0 in /opt/conda/lib/python3.11/site-packages (from typer<1.0.0,>=0.3.0->spacy<4.1.0,>=3.5.0->spacy-transformers) (14.0.0)\n",
      "Requirement already satisfied: cloudpathlib<1.0.0,>=0.7.0 in /opt/conda/lib/python3.11/site-packages (from weasel<0.5.0,>=0.1.0->spacy<4.1.0,>=3.5.0->spacy-transformers) (0.21.0)\n",
      "Requirement already satisfied: smart-open<8.0.0,>=5.2.1 in /opt/conda/lib/python3.11/site-packages (from weasel<0.5.0,>=0.1.0->spacy<4.1.0,>=3.5.0->spacy-transformers) (7.1.0)\n",
      "Requirement already satisfied: MarkupSafe>=2.0 in /opt/conda/lib/python3.11/site-packages (from jinja2->spacy<4.1.0,>=3.5.0->spacy-transformers) (2.1.3)\n",
      "Requirement already satisfied: marisa-trie>=1.1.0 in /opt/conda/lib/python3.11/site-packages (from language-data>=1.2->langcodes<4.0.0,>=3.2.0->spacy<4.1.0,>=3.5.0->spacy-transformers) (1.2.1)\n",
      "Requirement already satisfied: markdown-it-py>=2.2.0 in /opt/conda/lib/python3.11/site-packages (from rich>=10.11.0->typer<1.0.0,>=0.3.0->spacy<4.1.0,>=3.5.0->spacy-transformers) (3.0.0)\n",
      "Requirement already satisfied: pygments<3.0.0,>=2.13.0 in /opt/conda/lib/python3.11/site-packages (from rich>=10.11.0->typer<1.0.0,>=0.3.0->spacy<4.1.0,>=3.5.0->spacy-transformers) (2.16.1)\n",
      "Requirement already satisfied: wrapt in /opt/conda/lib/python3.11/site-packages (from smart-open<8.0.0,>=5.2.1->weasel<0.5.0,>=0.1.0->spacy<4.1.0,>=3.5.0->spacy-transformers) (1.17.2)\n",
      "Requirement already satisfied: mdurl~=0.1 in /opt/conda/lib/python3.11/site-packages (from markdown-it-py>=2.2.0->rich>=10.11.0->typer<1.0.0,>=0.3.0->spacy<4.1.0,>=3.5.0->spacy-transformers) (0.1.2)\n",
      "Collecting ru-core-news-lg==3.8.0\n",
      "  Downloading https://github.com/explosion/spacy-models/releases/download/ru_core_news_lg-3.8.0/ru_core_news_lg-3.8.0-py3-none-any.whl (513.4 MB)\n",
      "\u001b[2K     \u001b[90m━━━━━━━━━━━━━━━━━━━━━━━━━━━━━━━━━━━━━\u001b[0m \u001b[32m513.4/513.4 MB\u001b[0m \u001b[31m768.4 kB/s\u001b[0m eta \u001b[36m0:00:00\u001b[0m00:01\u001b[0m00:16\u001b[0m\n",
      "\u001b[?25hRequirement already satisfied: pymorphy3>=1.0.0 in /opt/conda/lib/python3.11/site-packages (from ru-core-news-lg==3.8.0) (2.0.3)\n",
      "Requirement already satisfied: dawg2-python>=0.8.0 in /opt/conda/lib/python3.11/site-packages (from pymorphy3>=1.0.0->ru-core-news-lg==3.8.0) (0.9.0)\n",
      "Requirement already satisfied: pymorphy3-dicts-ru in /opt/conda/lib/python3.11/site-packages (from pymorphy3>=1.0.0->ru-core-news-lg==3.8.0) (2.4.417150.4580142)\n",
      "\u001b[38;5;2m✔ Download and installation successful\u001b[0m\n",
      "You can now load the package via spacy.load('ru_core_news_lg')\n"
     ]
    }
   ],
   "source": [
    "!pip install spacy-transformers\n",
    "!python -m spacy download ru_core_news_lg"
   ]
  },
  {
   "cell_type": "code",
   "execution_count": 5,
   "metadata": {
    "id": "ghC1-QtVMuGa"
   },
   "outputs": [],
   "source": [
    "import json\n",
    "\n",
    "import typer\n",
    "from pathlib import Path\n",
    "\n",
    "from spacy.tokens import Span, DocBin, Doc\n",
    "from spacy.vocab import Vocab\n",
    "from wasabi import Printer\n",
    "from spacy.tokenizer import Tokenizer\n",
    "from spacy.lang.ru import Russian\n",
    "from spacy.util import compile_infix_regex\n",
    "import re\n",
    "import spacy\n",
    "\n",
    "nlp = spacy.blank(\"ru\")\n",
    "# Create a blank Tokenizer with just the Russian vocab\n",
    "\n",
    "msg = Printer()\n",
    "\n",
    "SYMM_LABELS = [\"Binds\"]\n",
    "MAP_LABELS = {\n",
    "    \"PART-OF\": \"PART-OF\",\n",
    "    \"LOCATED-AT\": \"LOCATED-AT\",\n",
    "    \"CONNECTED-WITH\": \"CONNECTED-WITH\",\n",
    "    \"IN-MANNER-OF\": \"IN-MANNER-OF\"\n",
    "}\n",
    "\n",
    "ann_train = \"./dataset/all_relations_train.json\"\n",
    "ann_test = \"./dataset/all_relations_test.json\"\n",
    "ann_dev = \"./dataset/all_relations_dev.json\"\n",
    "train_file='./rel_component/data/train.spacy'\n",
    "dev_file='./rel_component/data/dev.spacy'\n",
    "test_file='./rel_component/data/test.spacy'\n",
    "\n",
    "def convert_json(json_loc: Path, train_file: Path):\n",
    "    \"\"\"Creating the corpus from the Prodigy annotations.\"\"\"\n",
    "    Doc.set_extension(\"rel\", default={},force=True)\n",
    "    vocab = Vocab()\n",
    "\n",
    "    docs = []\n",
    "\n",
    "    with open(json_loc, encoding=\"utf8\") as jsonfile:\n",
    "        file = json.load(jsonfile)\n",
    "        for example in file:\n",
    "            span_starts = set()\n",
    "            neg = 0\n",
    "            pos = 0\n",
    "            # Parse the tokens\n",
    "            tokens=nlp(example[\"document\"])\n",
    "            \n",
    "            spaces = [True if tok.whitespace_ else False for tok in tokens]\n",
    "            words = [t.text for t in tokens]\n",
    "            doc = Doc(nlp.vocab, words=words, spaces=spaces)\n",
    "\n",
    "            # Parse the GGP entities\n",
    "            spans = example[\"tokens\"]\n",
    "            entities = []\n",
    "            span_end_to_start = {}\n",
    "            for span in spans:\n",
    "                entity = doc.char_span(\n",
    "                    span[\"start\"], \n",
    "                    span[\"end\"], \n",
    "                    label=span[\"entityLabel\"]\n",
    "                )\n",
    "                span_end_to_start[span[\"token_start\"]] = entity.start\n",
    "                entities.append(entity)\n",
    "                span_starts.add(entity.start)\n",
    "\n",
    "            doc.ents = entities\n",
    "\n",
    "            # Parse the relations\n",
    "            rels = {}\n",
    "            for x1 in span_starts:\n",
    "                for x2 in span_starts:\n",
    "                    rels[(x1, x2)] = {}\n",
    "                    \n",
    "            relations = example[\"relations\"]\n",
    "            \n",
    "            for relation in relations:\n",
    "                start = span_end_to_start[relation[\"head\"]]\n",
    "                end = span_end_to_start[relation[\"child\"]]\n",
    "                label = relation[\"relationLabel\"]\n",
    "                if label not in rels[(start, end)]:\n",
    "                    rels[(start, end)][label] = 1.0\n",
    "                    pos += 1\n",
    "\n",
    "            # The annotation is complete, so fill in zero's where the data is missing\n",
    "            for x1 in span_starts:\n",
    "                for x2 in span_starts:\n",
    "                    for label in MAP_LABELS.values():\n",
    "                        if label not in rels[(x1, x2)]:\n",
    "                            neg += 1\n",
    "                            rels[(x1, x2)][label] = 0.0\n",
    "\n",
    "            doc._.rel = rels\n",
    "            \n",
    "            # only keeping documents with at least 1 positive case\n",
    "            if pos > 0:\n",
    "                docs.append(doc)\n",
    "\n",
    "\n",
    "\n",
    "    docbin = DocBin(docs=docs, store_user_data=True)\n",
    "    docbin.to_disk(train_file)\n",
    "    msg.info(\n",
    "        f\"{len(docs)} total sentences\"\n",
    "    )"
   ]
  },
  {
   "cell_type": "code",
   "execution_count": 6,
   "metadata": {
    "colab": {
     "base_uri": "https://localhost:8080/"
    },
    "executionInfo": {
     "elapsed": 19626,
     "status": "ok",
     "timestamp": 1740868466437,
     "user": {
      "displayName": "Данила Никонов",
      "userId": "11702314398238835712"
     },
     "user_tz": -180
    },
    "id": "aIXUPqJNsu8x",
    "outputId": "96d0f23f-2772-469e-acae-5cf5d4165db7"
   },
   "outputs": [
    {
     "name": "stdout",
     "output_type": "stream",
     "text": [
      "\u001b[38;5;4mℹ 2005 total sentences\u001b[0m\n"
     ]
    }
   ],
   "source": [
    "convert_json(ann_train, train_file)"
   ]
  },
  {
   "cell_type": "code",
   "execution_count": 7,
   "metadata": {
    "colab": {
     "base_uri": "https://localhost:8080/"
    },
    "executionInfo": {
     "elapsed": 977,
     "status": "ok",
     "timestamp": 1740868478900,
     "user": {
      "displayName": "Данила Никонов",
      "userId": "11702314398238835712"
     },
     "user_tz": -180
    },
    "id": "1wYXG9AusyrM",
    "outputId": "0c5eec5f-8bdc-4a3f-b750-cbc30355a974"
   },
   "outputs": [
    {
     "name": "stdout",
     "output_type": "stream",
     "text": [
      "\u001b[38;5;4mℹ 253 total sentences\u001b[0m\n"
     ]
    }
   ],
   "source": [
    "convert_json(ann_dev, dev_file)"
   ]
  },
  {
   "cell_type": "code",
   "execution_count": 8,
   "metadata": {
    "colab": {
     "base_uri": "https://localhost:8080/"
    },
    "executionInfo": {
     "elapsed": 908,
     "status": "ok",
     "timestamp": 1740868479976,
     "user": {
      "displayName": "Данила Никонов",
      "userId": "11702314398238835712"
     },
     "user_tz": -180
    },
    "id": "PjrLi5Tzsyjd",
    "outputId": "592d2647-161f-4035-b154-7c03c5bea305"
   },
   "outputs": [
    {
     "name": "stdout",
     "output_type": "stream",
     "text": [
      "\u001b[38;5;4mℹ 251 total sentences\u001b[0m\n"
     ]
    }
   ],
   "source": [
    "convert_json(ann_test, test_file)"
   ]
  },
  {
   "cell_type": "code",
   "execution_count": null,
   "metadata": {
    "colab": {
     "base_uri": "https://localhost:8080/"
    },
    "executionInfo": {
     "elapsed": 3381096,
     "status": "ok",
     "timestamp": 1740873629719,
     "user": {
      "displayName": "Данила Никонов",
      "userId": "11702314398238835712"
     },
     "user_tz": -180
    },
    "id": "nqAF6c0QjVS0",
    "outputId": "c6f7e1ce-ef7c-42b2-e029-bf6e42fcceac"
   },
   "outputs": [
    {
     "name": "stdout",
     "output_type": "stream",
     "text": [
      "\u001b[1m\n",
      "================================= train_gpu =================================\u001b[0m\n",
      "Running command: /usr/bin/python3 -m spacy train configs/rel_trf.cfg --output training --paths.train data/train.spacy --paths.dev data/dev.spacy -c ./scripts/custom_functions.py --gpu-id 0\n",
      "\u001b[38;5;4mℹ Saving to output directory: training\u001b[0m\n",
      "\u001b[38;5;4mℹ Using GPU: 0\u001b[0m\n",
      "\u001b[1m\n",
      "=========================== Initializing pipeline ===========================\u001b[0m\n",
      "2025-03-01 23:04:21.682549: E external/local_xla/xla/stream_executor/cuda/cuda_fft.cc:477] Unable to register cuFFT factory: Attempting to register factory for plugin cuFFT when one has already been registered\n",
      "WARNING: All log messages before absl::InitializeLog() is called are written to STDERR\n",
      "E0000 00:00:1740870261.703305   37630 cuda_dnn.cc:8310] Unable to register cuDNN factory: Attempting to register factory for plugin cuDNN when one has already been registered\n",
      "E0000 00:00:1740870261.709736   37630 cuda_blas.cc:1418] Unable to register cuBLAS factory: Attempting to register factory for plugin cuBLAS when one has already been registered\n",
      "2025-03-01 23:04:21.731447: I tensorflow/core/platform/cpu_feature_guard.cc:210] This TensorFlow binary is optimized to use available CPU instructions in performance-critical operations.\n",
      "To enable the following instructions: AVX2 FMA, in other operations, rebuild TensorFlow with the appropriate compiler flags.\n",
      "Some weights of RobertaModel were not initialized from the model checkpoint at ai-forever/ruRoberta-large and are newly initialized: ['roberta.pooler.dense.bias', 'roberta.pooler.dense.weight']\n",
      "You should probably TRAIN this model on a down-stream task to be able to use it for predictions and inference.\n",
      "/usr/local/lib/python3.11/dist-packages/thinc/shims/pytorch.py:114: FutureWarning: `torch.cuda.amp.autocast(args...)` is deprecated. Please use `torch.amp.autocast('cuda', args...)` instead.\n",
      "  with torch.cuda.amp.autocast(self._mixed_precision):\n",
      "\u001b[38;5;2m✔ Initialized pipeline\u001b[0m\n",
      "\u001b[1m\n",
      "============================= Training pipeline =============================\u001b[0m\n",
      "\u001b[38;5;4mℹ Pipeline: ['transformer', 'relation_extractor']\u001b[0m\n",
      "\u001b[38;5;4mℹ Initial learn rate: 0.0\u001b[0m\n",
      "E    #       LOSS TRANS...  LOSS RELAT...  REL_MICRO_P  REL_MICRO_R  REL_MICRO_F  SCORE \n",
      "---  ------  -------------  -------------  -----------  -----------  -----------  ------\n",
      "/usr/local/lib/python3.11/dist-packages/thinc/shims/pytorch.py:128: FutureWarning: `torch.cuda.amp.autocast(args...)` is deprecated. Please use `torch.amp.autocast('cuda', args...)` instead.\n",
      "  with torch.cuda.amp.autocast(self._mixed_precision):\n",
      "  0       0           0.41           1.31         0.00         0.00         0.00    0.00\n",
      "  0     100          11.65          14.06         0.00         0.00         0.00    0.00\n",
      "  0     200           0.07           3.44         0.00         0.00         0.00    0.00\n",
      "  0     300           0.00           3.34         0.00         0.00         0.00    0.00\n",
      "  0     400           0.00           3.53         0.00         0.00         0.00    0.00\n",
      "  0     500           0.00           3.28         0.00         0.00         0.00    0.00\n",
      "  1     600           0.00           3.51         0.00         0.00         0.00    0.00\n",
      "  1     700           0.00           3.66         0.00         0.00         0.00    0.00\n",
      "  1     800           0.00           3.41         0.00         0.00         0.00    0.00\n",
      "  1     900           0.00           3.49         0.00         0.00         0.00    0.00\n",
      "  1    1000           0.00           3.41         0.00         0.00         0.00    0.00\n",
      "\u001b[38;5;2m✔ Saved pipeline to output directory\u001b[0m\n",
      "training/model-last\n"
     ]
    }
   ],
   "source": [
    "!cd ./rel_component && spacy project run train_gpu"
   ]
  },
  {
   "cell_type": "code",
   "execution_count": null,
   "metadata": {
    "colab": {
     "base_uri": "https://localhost:8080/"
    },
    "executionInfo": {
     "elapsed": 692686,
     "status": "ok",
     "timestamp": 1740874340272,
     "user": {
      "displayName": "Данила Никонов",
      "userId": "11702314398238835712"
     },
     "user_tz": -180
    },
    "id": "Nj-ghMdaQvfS",
    "outputId": "d3fd55f7-c053-43a9-fd1b-bc5ced5bd451"
   },
   "outputs": [
    {
     "name": "stdout",
     "output_type": "stream",
     "text": [
      "\u001b[1m\n",
      "================================== evaluate ==================================\u001b[0m\n",
      "Running command: /usr/bin/python3 ./scripts/evaluate.py training/model-best data/test.spacy False\n",
      "2025-03-02 00:01:05.500605: E external/local_xla/xla/stream_executor/cuda/cuda_fft.cc:477] Unable to register cuFFT factory: Attempting to register factory for plugin cuFFT when one has already been registered\n",
      "WARNING: All log messages before absl::InitializeLog() is called are written to STDERR\n",
      "E0000 00:00:1740873665.547840   52146 cuda_dnn.cc:8310] Unable to register cuDNN factory: Attempting to register factory for plugin cuDNN when one has already been registered\n",
      "E0000 00:00:1740873665.563192   52146 cuda_blas.cc:1418] Unable to register cuBLAS factory: Attempting to register factory for plugin cuBLAS when one has already been registered\n",
      "2025-03-02 00:01:05.641303: I tensorflow/core/platform/cpu_feature_guard.cc:210] This TensorFlow binary is optimized to use available CPU instructions in performance-critical operations.\n",
      "To enable the following instructions: AVX2 FMA, in other operations, rebuild TensorFlow with the appropriate compiler flags.\n",
      "/usr/local/lib/python3.11/dist-packages/spacy_transformers/layers/hf_shim.py:124: FutureWarning: You are using `torch.load` with `weights_only=False` (the current default value), which uses the default pickle module implicitly. It is possible to construct malicious pickle data which will execute arbitrary code during unpickling (See https://github.com/pytorch/pytorch/blob/main/SECURITY.md#untrusted-models for more details). In a future release, the default value for `weights_only` will be flipped to `True`. This limits the functions that could be executed during unpickling. Arbitrary objects will no longer be allowed to be loaded via this mode unless they are explicitly allowlisted by the user via `torch.serialization.add_safe_globals`. We recommend you start setting `weights_only=True` for any use case where you don't have full control of the loaded file. Please open an issue on GitHub for any issues related to this experimental feature.\n",
      "  self._model.load_state_dict(torch.load(filelike, map_location=device))\n",
      "/usr/local/lib/python3.11/dist-packages/thinc/shims/pytorch.py:114: FutureWarning: `torch.cuda.amp.autocast(args...)` is deprecated. Please use `torch.amp.autocast('cuda', args...)` instead.\n",
      "  with torch.cuda.amp.autocast(self._mixed_precision):\n",
      "\n",
      "Random baseline:\n",
      "threshold 0.00 \t {'PART-OF_micro_p': '1.37', 'PART-OF_micro_r': '100.00', 'PART-OF_micro_f': '2.70', 'LOCATED-AT_micro_p': '0.42', 'LOCATED-AT_micro_r': '100.00', 'LOCATED-AT_micro_f': '0.84', 'CONNECTED-WITH_micro_p': '0.44', 'CONNECTED-WITH_micro_r': '100.00', 'CONNECTED-WITH_micro_f': '0.87', 'ATTRIBUTE-FOR_micro_p': '0.81', 'ATTRIBUTE-FOR_micro_r': '100.00', 'ATTRIBUTE-FOR_micro_f': '1.61', 'IN-MANNER-OF_micro_p': '0.13', 'IN-MANNER-OF_micro_r': '100.00', 'IN-MANNER-OF_micro_f': '0.27', 'overall_micro_p': '0.63', 'overall_micro_r': '100.00', 'overall_micro_f': '1.26'}\n",
      "threshold 0.05 \t {'PART-OF_micro_p': '1.38', 'PART-OF_micro_r': '95.56', 'PART-OF_micro_f': '2.72', 'LOCATED-AT_micro_p': '0.41', 'LOCATED-AT_micro_r': '93.89', 'LOCATED-AT_micro_f': '0.83', 'CONNECTED-WITH_micro_p': '0.44', 'CONNECTED-WITH_micro_r': '95.89', 'CONNECTED-WITH_micro_f': '0.88', 'ATTRIBUTE-FOR_micro_p': '0.81', 'ATTRIBUTE-FOR_micro_r': '94.27', 'ATTRIBUTE-FOR_micro_f': '1.60', 'IN-MANNER-OF_micro_p': '0.14', 'IN-MANNER-OF_micro_r': '96.45', 'IN-MANNER-OF_micro_f': '0.27', 'overall_micro_p': '0.64', 'overall_micro_r': '95.21', 'overall_micro_f': '1.26'}\n",
      "threshold 0.10 \t {'PART-OF_micro_p': '1.38', 'PART-OF_micro_r': '90.70', 'PART-OF_micro_f': '2.72', 'LOCATED-AT_micro_p': '0.41', 'LOCATED-AT_micro_r': '88.24', 'LOCATED-AT_micro_f': '0.82', 'CONNECTED-WITH_micro_p': '0.44', 'CONNECTED-WITH_micro_r': '90.26', 'CONNECTED-WITH_micro_f': '0.87', 'ATTRIBUTE-FOR_micro_p': '0.81', 'ATTRIBUTE-FOR_micro_r': '89.82', 'ATTRIBUTE-FOR_micro_f': '1.61', 'IN-MANNER-OF_micro_p': '0.14', 'IN-MANNER-OF_micro_r': '92.91', 'IN-MANNER-OF_micro_f': '0.28', 'overall_micro_p': '0.64', 'overall_micro_r': '90.39', 'overall_micro_f': '1.26'}\n",
      "threshold 0.20 \t {'PART-OF_micro_p': '1.37', 'PART-OF_micro_r': '80.08', 'PART-OF_micro_f': '2.69', 'LOCATED-AT_micro_p': '0.40', 'LOCATED-AT_micro_r': '77.15', 'LOCATED-AT_micro_f': '0.80', 'CONNECTED-WITH_micro_p': '0.43', 'CONNECTED-WITH_micro_r': '78.57', 'CONNECTED-WITH_micro_f': '0.86', 'ATTRIBUTE-FOR_micro_p': '0.81', 'ATTRIBUTE-FOR_micro_r': '79.18', 'ATTRIBUTE-FOR_micro_f': '1.60', 'IN-MANNER-OF_micro_p': '0.14', 'IN-MANNER-OF_micro_r': '83.69', 'IN-MANNER-OF_micro_f': '0.28', 'overall_micro_p': '0.63', 'overall_micro_r': '79.73', 'overall_micro_f': '1.25'}\n",
      "threshold 0.30 \t {'PART-OF_micro_p': '1.37', 'PART-OF_micro_r': '70.09', 'PART-OF_micro_f': '2.68', 'LOCATED-AT_micro_p': '0.40', 'LOCATED-AT_micro_r': '66.29', 'LOCATED-AT_micro_f': '0.79', 'CONNECTED-WITH_micro_p': '0.43', 'CONNECTED-WITH_micro_r': '69.48', 'CONNECTED-WITH_micro_f': '0.86', 'ATTRIBUTE-FOR_micro_p': '0.81', 'ATTRIBUTE-FOR_micro_r': '69.47', 'ATTRIBUTE-FOR_micro_f': '1.60', 'IN-MANNER-OF_micro_p': '0.14', 'IN-MANNER-OF_micro_r': '75.89', 'IN-MANNER-OF_micro_f': '0.29', 'overall_micro_p': '0.63', 'overall_micro_r': '70.24', 'overall_micro_f': '1.24'}\n",
      "threshold 0.40 \t {'PART-OF_micro_p': '1.38', 'PART-OF_micro_r': '60.58', 'PART-OF_micro_f': '2.69', 'LOCATED-AT_micro_p': '0.40', 'LOCATED-AT_micro_r': '56.79', 'LOCATED-AT_micro_f': '0.79', 'CONNECTED-WITH_micro_p': '0.43', 'CONNECTED-WITH_micro_r': '59.09', 'CONNECTED-WITH_micro_f': '0.85', 'ATTRIBUTE-FOR_micro_p': '0.80', 'ATTRIBUTE-FOR_micro_r': '58.83', 'ATTRIBUTE-FOR_micro_f': '1.57', 'IN-MANNER-OF_micro_p': '0.14', 'IN-MANNER-OF_micro_r': '60.99', 'IN-MANNER-OF_micro_f': '0.27', 'overall_micro_p': '0.63', 'overall_micro_r': '59.26', 'overall_micro_f': '1.23'}\n",
      "threshold 0.50 \t {'PART-OF_micro_p': '1.35', 'PART-OF_micro_r': '49.62', 'PART-OF_micro_f': '2.63', 'LOCATED-AT_micro_p': '0.40', 'LOCATED-AT_micro_r': '47.29', 'LOCATED-AT_micro_f': '0.78', 'CONNECTED-WITH_micro_p': '0.42', 'CONNECTED-WITH_micro_r': '48.27', 'CONNECTED-WITH_micro_f': '0.84', 'ATTRIBUTE-FOR_micro_p': '0.82', 'ATTRIBUTE-FOR_micro_r': '50.64', 'ATTRIBUTE-FOR_micro_f': '1.62', 'IN-MANNER-OF_micro_p': '0.13', 'IN-MANNER-OF_micro_r': '47.52', 'IN-MANNER-OF_micro_f': '0.25', 'overall_micro_p': '0.62', 'overall_micro_r': '48.67', 'overall_micro_f': '1.23'}\n",
      "threshold 0.60 \t {'PART-OF_micro_p': '1.39', 'PART-OF_micro_r': '40.67', 'PART-OF_micro_f': '2.68', 'LOCATED-AT_micro_p': '0.40', 'LOCATED-AT_micro_r': '38.46', 'LOCATED-AT_micro_f': '0.79', 'CONNECTED-WITH_micro_p': '0.44', 'CONNECTED-WITH_micro_r': '40.69', 'CONNECTED-WITH_micro_f': '0.87', 'ATTRIBUTE-FOR_micro_p': '0.81', 'ATTRIBUTE-FOR_micro_r': '40.00', 'ATTRIBUTE-FOR_micro_f': '1.59', 'IN-MANNER-OF_micro_p': '0.14', 'IN-MANNER-OF_micro_r': '41.13', 'IN-MANNER-OF_micro_f': '0.27', 'overall_micro_p': '0.64', 'overall_micro_r': '40.19', 'overall_micro_f': '1.24'}\n",
      "threshold 0.70 \t {'PART-OF_micro_p': '1.38', 'PART-OF_micro_r': '30.12', 'PART-OF_micro_f': '2.63', 'LOCATED-AT_micro_p': '0.36', 'LOCATED-AT_micro_r': '26.02', 'LOCATED-AT_micro_f': '0.71', 'CONNECTED-WITH_micro_p': '0.44', 'CONNECTED-WITH_micro_r': '30.30', 'CONNECTED-WITH_micro_f': '0.87', 'ATTRIBUTE-FOR_micro_p': '0.80', 'ATTRIBUTE-FOR_micro_r': '29.36', 'ATTRIBUTE-FOR_micro_f': '1.55', 'IN-MANNER-OF_micro_p': '0.15', 'IN-MANNER-OF_micro_r': '32.62', 'IN-MANNER-OF_micro_f': '0.29', 'overall_micro_p': '0.62', 'overall_micro_r': '29.68', 'overall_micro_f': '1.21'}\n",
      "threshold 0.80 \t {'PART-OF_micro_p': '1.35', 'PART-OF_micro_r': '19.71', 'PART-OF_micro_f': '2.52', 'LOCATED-AT_micro_p': '0.36', 'LOCATED-AT_micro_r': '17.19', 'LOCATED-AT_micro_f': '0.71', 'CONNECTED-WITH_micro_p': '0.45', 'CONNECTED-WITH_micro_r': '21.00', 'CONNECTED-WITH_micro_f': '0.89', 'ATTRIBUTE-FOR_micro_p': '0.81', 'ATTRIBUTE-FOR_micro_r': '20.00', 'ATTRIBUTE-FOR_micro_f': '1.55', 'IN-MANNER-OF_micro_p': '0.14', 'IN-MANNER-OF_micro_r': '20.57', 'IN-MANNER-OF_micro_f': '0.27', 'overall_micro_p': '0.62', 'overall_micro_r': '19.69', 'overall_micro_f': '1.19'}\n",
      "threshold 0.90 \t {'PART-OF_micro_p': '1.25', 'PART-OF_micro_r': '9.16', 'PART-OF_micro_f': '2.20', 'LOCATED-AT_micro_p': '0.34', 'LOCATED-AT_micro_r': '7.92', 'LOCATED-AT_micro_f': '0.64', 'CONNECTED-WITH_micro_p': '0.38', 'CONNECTED-WITH_micro_r': '8.87', 'CONNECTED-WITH_micro_f': '0.73', 'ATTRIBUTE-FOR_micro_p': '0.85', 'ATTRIBUTE-FOR_micro_r': '10.76', 'ATTRIBUTE-FOR_micro_f': '1.58', 'IN-MANNER-OF_micro_p': '0.15', 'IN-MANNER-OF_micro_r': '11.35', 'IN-MANNER-OF_micro_f': '0.30', 'overall_micro_p': '0.59', 'overall_micro_r': '9.61', 'overall_micro_f': '1.09'}\n",
      "threshold 0.99 \t {'PART-OF_micro_p': '1.06', 'PART-OF_micro_r': '0.76', 'PART-OF_micro_f': '0.89', 'LOCATED-AT_micro_p': '0.38', 'LOCATED-AT_micro_r': '0.90', 'LOCATED-AT_micro_f': '0.54', 'CONNECTED-WITH_micro_p': '0.28', 'CONNECTED-WITH_micro_r': '0.65', 'CONNECTED-WITH_micro_f': '0.39', 'ATTRIBUTE-FOR_micro_p': '0.91', 'ATTRIBUTE-FOR_micro_r': '1.17', 'ATTRIBUTE-FOR_micro_f': '1.02', 'IN-MANNER-OF_micro_p': '0.20', 'IN-MANNER-OF_micro_r': '1.42', 'IN-MANNER-OF_micro_f': '0.35', 'overall_micro_p': '0.57', 'overall_micro_r': '0.98', 'overall_micro_f': '0.64'}\n",
      "threshold 1.00 \t {'PART-OF_micro_p': '1.82', 'PART-OF_micro_r': '0.14', 'PART-OF_micro_f': '0.26', 'LOCATED-AT_micro_p': '0.00', 'LOCATED-AT_micro_r': '0.00', 'LOCATED-AT_micro_f': '0.00', 'CONNECTED-WITH_micro_p': '0.00', 'CONNECTED-WITH_micro_r': '0.00', 'CONNECTED-WITH_micro_f': '0.00', 'ATTRIBUTE-FOR_micro_p': '2.56', 'ATTRIBUTE-FOR_micro_r': '0.35', 'ATTRIBUTE-FOR_micro_f': '0.62', 'IN-MANNER-OF_micro_p': '0.00', 'IN-MANNER-OF_micro_r': '0.00', 'IN-MANNER-OF_micro_f': '0.00', 'overall_micro_p': '0.88', 'overall_micro_r': '0.10', 'overall_micro_f': '0.18'}\n",
      "\n",
      "Results of the trained model:\n",
      "threshold 0.00 \t {'PART-OF_micro_p': '1.37', 'PART-OF_micro_r': '100.00', 'PART-OF_micro_f': '2.70', 'LOCATED-AT_micro_p': '0.42', 'LOCATED-AT_micro_r': '100.00', 'LOCATED-AT_micro_f': '0.84', 'CONNECTED-WITH_micro_p': '0.44', 'CONNECTED-WITH_micro_r': '100.00', 'CONNECTED-WITH_micro_f': '0.87', 'ATTRIBUTE-FOR_micro_p': '0.81', 'ATTRIBUTE-FOR_micro_r': '100.00', 'ATTRIBUTE-FOR_micro_f': '1.61', 'IN-MANNER-OF_micro_p': '0.13', 'IN-MANNER-OF_micro_r': '100.00', 'IN-MANNER-OF_micro_f': '0.27', 'overall_micro_p': '0.63', 'overall_micro_r': '100.00', 'overall_micro_f': '1.26'}\n",
      "threshold 0.05 \t {'PART-OF_micro_p': '0.00', 'PART-OF_micro_r': '0.00', 'PART-OF_micro_f': '0.00', 'LOCATED-AT_micro_p': '0.00', 'LOCATED-AT_micro_r': '0.00', 'LOCATED-AT_micro_f': '0.00', 'CONNECTED-WITH_micro_p': '0.00', 'CONNECTED-WITH_micro_r': '0.00', 'CONNECTED-WITH_micro_f': '0.00', 'ATTRIBUTE-FOR_micro_p': '0.00', 'ATTRIBUTE-FOR_micro_r': '0.00', 'ATTRIBUTE-FOR_micro_f': '0.00', 'IN-MANNER-OF_micro_p': '0.00', 'IN-MANNER-OF_micro_r': '0.00', 'IN-MANNER-OF_micro_f': '0.00', 'overall_micro_p': '0.00', 'overall_micro_r': '0.00', 'overall_micro_f': '0.00'}\n",
      "threshold 0.10 \t {'PART-OF_micro_p': '0.00', 'PART-OF_micro_r': '0.00', 'PART-OF_micro_f': '0.00', 'LOCATED-AT_micro_p': '0.00', 'LOCATED-AT_micro_r': '0.00', 'LOCATED-AT_micro_f': '0.00', 'CONNECTED-WITH_micro_p': '0.00', 'CONNECTED-WITH_micro_r': '0.00', 'CONNECTED-WITH_micro_f': '0.00', 'ATTRIBUTE-FOR_micro_p': '0.00', 'ATTRIBUTE-FOR_micro_r': '0.00', 'ATTRIBUTE-FOR_micro_f': '0.00', 'IN-MANNER-OF_micro_p': '0.00', 'IN-MANNER-OF_micro_r': '0.00', 'IN-MANNER-OF_micro_f': '0.00', 'overall_micro_p': '0.00', 'overall_micro_r': '0.00', 'overall_micro_f': '0.00'}\n",
      "threshold 0.20 \t {'PART-OF_micro_p': '0.00', 'PART-OF_micro_r': '0.00', 'PART-OF_micro_f': '0.00', 'LOCATED-AT_micro_p': '0.00', 'LOCATED-AT_micro_r': '0.00', 'LOCATED-AT_micro_f': '0.00', 'CONNECTED-WITH_micro_p': '0.00', 'CONNECTED-WITH_micro_r': '0.00', 'CONNECTED-WITH_micro_f': '0.00', 'ATTRIBUTE-FOR_micro_p': '0.00', 'ATTRIBUTE-FOR_micro_r': '0.00', 'ATTRIBUTE-FOR_micro_f': '0.00', 'IN-MANNER-OF_micro_p': '0.00', 'IN-MANNER-OF_micro_r': '0.00', 'IN-MANNER-OF_micro_f': '0.00', 'overall_micro_p': '0.00', 'overall_micro_r': '0.00', 'overall_micro_f': '0.00'}\n",
      "threshold 0.30 \t {'PART-OF_micro_p': '0.00', 'PART-OF_micro_r': '0.00', 'PART-OF_micro_f': '0.00', 'LOCATED-AT_micro_p': '0.00', 'LOCATED-AT_micro_r': '0.00', 'LOCATED-AT_micro_f': '0.00', 'CONNECTED-WITH_micro_p': '0.00', 'CONNECTED-WITH_micro_r': '0.00', 'CONNECTED-WITH_micro_f': '0.00', 'ATTRIBUTE-FOR_micro_p': '0.00', 'ATTRIBUTE-FOR_micro_r': '0.00', 'ATTRIBUTE-FOR_micro_f': '0.00', 'IN-MANNER-OF_micro_p': '0.00', 'IN-MANNER-OF_micro_r': '0.00', 'IN-MANNER-OF_micro_f': '0.00', 'overall_micro_p': '0.00', 'overall_micro_r': '0.00', 'overall_micro_f': '0.00'}\n",
      "threshold 0.40 \t {'PART-OF_micro_p': '0.00', 'PART-OF_micro_r': '0.00', 'PART-OF_micro_f': '0.00', 'LOCATED-AT_micro_p': '0.00', 'LOCATED-AT_micro_r': '0.00', 'LOCATED-AT_micro_f': '0.00', 'CONNECTED-WITH_micro_p': '0.00', 'CONNECTED-WITH_micro_r': '0.00', 'CONNECTED-WITH_micro_f': '0.00', 'ATTRIBUTE-FOR_micro_p': '0.00', 'ATTRIBUTE-FOR_micro_r': '0.00', 'ATTRIBUTE-FOR_micro_f': '0.00', 'IN-MANNER-OF_micro_p': '0.00', 'IN-MANNER-OF_micro_r': '0.00', 'IN-MANNER-OF_micro_f': '0.00', 'overall_micro_p': '0.00', 'overall_micro_r': '0.00', 'overall_micro_f': '0.00'}\n",
      "threshold 0.50 \t {'PART-OF_micro_p': '0.00', 'PART-OF_micro_r': '0.00', 'PART-OF_micro_f': '0.00', 'LOCATED-AT_micro_p': '0.00', 'LOCATED-AT_micro_r': '0.00', 'LOCATED-AT_micro_f': '0.00', 'CONNECTED-WITH_micro_p': '0.00', 'CONNECTED-WITH_micro_r': '0.00', 'CONNECTED-WITH_micro_f': '0.00', 'ATTRIBUTE-FOR_micro_p': '0.00', 'ATTRIBUTE-FOR_micro_r': '0.00', 'ATTRIBUTE-FOR_micro_f': '0.00', 'IN-MANNER-OF_micro_p': '0.00', 'IN-MANNER-OF_micro_r': '0.00', 'IN-MANNER-OF_micro_f': '0.00', 'overall_micro_p': '0.00', 'overall_micro_r': '0.00', 'overall_micro_f': '0.00'}\n",
      "threshold 0.60 \t {'PART-OF_micro_p': '0.00', 'PART-OF_micro_r': '0.00', 'PART-OF_micro_f': '0.00', 'LOCATED-AT_micro_p': '0.00', 'LOCATED-AT_micro_r': '0.00', 'LOCATED-AT_micro_f': '0.00', 'CONNECTED-WITH_micro_p': '0.00', 'CONNECTED-WITH_micro_r': '0.00', 'CONNECTED-WITH_micro_f': '0.00', 'ATTRIBUTE-FOR_micro_p': '0.00', 'ATTRIBUTE-FOR_micro_r': '0.00', 'ATTRIBUTE-FOR_micro_f': '0.00', 'IN-MANNER-OF_micro_p': '0.00', 'IN-MANNER-OF_micro_r': '0.00', 'IN-MANNER-OF_micro_f': '0.00', 'overall_micro_p': '0.00', 'overall_micro_r': '0.00', 'overall_micro_f': '0.00'}\n",
      "threshold 0.70 \t {'PART-OF_micro_p': '0.00', 'PART-OF_micro_r': '0.00', 'PART-OF_micro_f': '0.00', 'LOCATED-AT_micro_p': '0.00', 'LOCATED-AT_micro_r': '0.00', 'LOCATED-AT_micro_f': '0.00', 'CONNECTED-WITH_micro_p': '0.00', 'CONNECTED-WITH_micro_r': '0.00', 'CONNECTED-WITH_micro_f': '0.00', 'ATTRIBUTE-FOR_micro_p': '0.00', 'ATTRIBUTE-FOR_micro_r': '0.00', 'ATTRIBUTE-FOR_micro_f': '0.00', 'IN-MANNER-OF_micro_p': '0.00', 'IN-MANNER-OF_micro_r': '0.00', 'IN-MANNER-OF_micro_f': '0.00', 'overall_micro_p': '0.00', 'overall_micro_r': '0.00', 'overall_micro_f': '0.00'}\n",
      "threshold 0.80 \t {'PART-OF_micro_p': '0.00', 'PART-OF_micro_r': '0.00', 'PART-OF_micro_f': '0.00', 'LOCATED-AT_micro_p': '0.00', 'LOCATED-AT_micro_r': '0.00', 'LOCATED-AT_micro_f': '0.00', 'CONNECTED-WITH_micro_p': '0.00', 'CONNECTED-WITH_micro_r': '0.00', 'CONNECTED-WITH_micro_f': '0.00', 'ATTRIBUTE-FOR_micro_p': '0.00', 'ATTRIBUTE-FOR_micro_r': '0.00', 'ATTRIBUTE-FOR_micro_f': '0.00', 'IN-MANNER-OF_micro_p': '0.00', 'IN-MANNER-OF_micro_r': '0.00', 'IN-MANNER-OF_micro_f': '0.00', 'overall_micro_p': '0.00', 'overall_micro_r': '0.00', 'overall_micro_f': '0.00'}\n",
      "threshold 0.90 \t {'PART-OF_micro_p': '0.00', 'PART-OF_micro_r': '0.00', 'PART-OF_micro_f': '0.00', 'LOCATED-AT_micro_p': '0.00', 'LOCATED-AT_micro_r': '0.00', 'LOCATED-AT_micro_f': '0.00', 'CONNECTED-WITH_micro_p': '0.00', 'CONNECTED-WITH_micro_r': '0.00', 'CONNECTED-WITH_micro_f': '0.00', 'ATTRIBUTE-FOR_micro_p': '0.00', 'ATTRIBUTE-FOR_micro_r': '0.00', 'ATTRIBUTE-FOR_micro_f': '0.00', 'IN-MANNER-OF_micro_p': '0.00', 'IN-MANNER-OF_micro_r': '0.00', 'IN-MANNER-OF_micro_f': '0.00', 'overall_micro_p': '0.00', 'overall_micro_r': '0.00', 'overall_micro_f': '0.00'}\n",
      "threshold 0.99 \t {'PART-OF_micro_p': '0.00', 'PART-OF_micro_r': '0.00', 'PART-OF_micro_f': '0.00', 'LOCATED-AT_micro_p': '0.00', 'LOCATED-AT_micro_r': '0.00', 'LOCATED-AT_micro_f': '0.00', 'CONNECTED-WITH_micro_p': '0.00', 'CONNECTED-WITH_micro_r': '0.00', 'CONNECTED-WITH_micro_f': '0.00', 'ATTRIBUTE-FOR_micro_p': '0.00', 'ATTRIBUTE-FOR_micro_r': '0.00', 'ATTRIBUTE-FOR_micro_f': '0.00', 'IN-MANNER-OF_micro_p': '0.00', 'IN-MANNER-OF_micro_r': '0.00', 'IN-MANNER-OF_micro_f': '0.00', 'overall_micro_p': '0.00', 'overall_micro_r': '0.00', 'overall_micro_f': '0.00'}\n",
      "threshold 1.00 \t {'PART-OF_micro_p': '0.00', 'PART-OF_micro_r': '0.00', 'PART-OF_micro_f': '0.00', 'LOCATED-AT_micro_p': '0.00', 'LOCATED-AT_micro_r': '0.00', 'LOCATED-AT_micro_f': '0.00', 'CONNECTED-WITH_micro_p': '0.00', 'CONNECTED-WITH_micro_r': '0.00', 'CONNECTED-WITH_micro_f': '0.00', 'ATTRIBUTE-FOR_micro_p': '0.00', 'ATTRIBUTE-FOR_micro_r': '0.00', 'ATTRIBUTE-FOR_micro_f': '0.00', 'IN-MANNER-OF_micro_p': '0.00', 'IN-MANNER-OF_micro_r': '0.00', 'IN-MANNER-OF_micro_f': '0.00', 'overall_micro_p': '0.00', 'overall_micro_r': '0.00', 'overall_micro_f': '0.00'}\n"
     ]
    }
   ],
   "source": [
    "!cd ./rel_component && spacy project run evaluate"
   ]
  }
 ],
 "metadata": {
  "colab": {
   "authorship_tag": "ABX9TyNcj/S9jIGpUmbt+Ip23cld",
   "provenance": []
  },
  "kernelspec": {
   "display_name": "Python 3 (ipykernel)",
   "language": "python",
   "name": "python3"
  },
  "language_info": {
   "codemirror_mode": {
    "name": "ipython",
    "version": 3
   },
   "file_extension": ".py",
   "mimetype": "text/x-python",
   "name": "python",
   "nbconvert_exporter": "python",
   "pygments_lexer": "ipython3",
   "version": "3.11.6"
  }
 },
 "nbformat": 4,
 "nbformat_minor": 4
}
